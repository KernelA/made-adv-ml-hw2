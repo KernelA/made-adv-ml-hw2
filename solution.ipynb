{
 "cells": [
  {
   "cell_type": "markdown",
   "metadata": {},
   "source": [
    "# Для запуска в Google Colab"
   ]
  },
  {
   "cell_type": "markdown",
   "metadata": {},
   "source": [
    "Раскомментируйте команды ниже для запуска в Colab. Код был протестирован с Python 3.8 и PyTorch 1.8 CUDA 11.\n",
    "\n",
    "**После установки зависимостей необходим перезапуск окружения** "
   ]
  },
  {
   "cell_type": "code",
   "execution_count": 1,
   "metadata": {},
   "outputs": [],
   "source": [
    "# !apt install -y  git-lfs\n",
    "# !git lfs version"
   ]
  },
  {
   "cell_type": "code",
   "execution_count": 2,
   "metadata": {},
   "outputs": [],
   "source": [
    "# %cd /content"
   ]
  },
  {
   "cell_type": "code",
   "execution_count": 3,
   "metadata": {},
   "outputs": [],
   "source": [
    "# !if [ ! -d ./made-adv-ml-hw2 ]; then git clone -b master --depth 1 --single-branch https://github.com/KernelA/made-adv-ml-hw2.git; fi"
   ]
  },
  {
   "cell_type": "code",
   "execution_count": 4,
   "metadata": {},
   "outputs": [],
   "source": [
    "# %cd /content/made-adv-ml-hw2"
   ]
  },
  {
   "cell_type": "code",
   "execution_count": 5,
   "metadata": {},
   "outputs": [],
   "source": [
    "# !git lfs pull"
   ]
  },
  {
   "cell_type": "code",
   "execution_count": 6,
   "metadata": {},
   "outputs": [],
   "source": [
    "# !pip install -r ./requirements.txt"
   ]
  },
  {
   "cell_type": "code",
   "execution_count": 7,
   "metadata": {},
   "outputs": [],
   "source": [
    "# !if [ -f ./.dvc/tmp/rwlock ]; then rm ./.dvc/tmp/rwlock; fi"
   ]
  },
  {
   "cell_type": "code",
   "execution_count": 8,
   "metadata": {},
   "outputs": [],
   "source": [
    "# !dvc repro train_test_split"
   ]
  },
  {
   "cell_type": "markdown",
   "metadata": {},
   "source": []
  },
  {
   "cell_type": "code",
   "execution_count": 9,
   "metadata": {},
   "outputs": [],
   "source": [
    "import pathlib\n",
    "import pickle\n",
    "import shutil\n",
    "import random\n",
    "\n",
    "import numpy as np\n",
    "import pandas as pd\n",
    "from sklearn import preprocessing, linear_model\n",
    "from scipy import sparse\n",
    "from tqdm import tqdm\n",
    "import torch\n",
    "\n",
    "import matplotlib.pyplot as plt\n",
    "import matplotlib as mpl\n",
    "\n",
    "%matplotlib inline\n",
    "\n",
    "plt.style.use(\"bmh\")\n",
    "mpl.rcParams[\"figure.figsize\"] = (8, 8)"
   ]
  },
  {
   "cell_type": "code",
   "execution_count": 10,
   "metadata": {},
   "outputs": [],
   "source": [
    "np.random.seed(12)\n",
    "random.seed(22)\n",
    "torch.manual_seed(0)\n",
    "torch.set_default_dtype(torch.float32)"
   ]
  },
  {
   "cell_type": "code",
   "execution_count": 11,
   "metadata": {},
   "outputs": [],
   "source": [
    "%load_ext autoreload\n",
    "\n",
    "%autoreload 2"
   ]
  },
  {
   "cell_type": "code",
   "execution_count": 12,
   "metadata": {},
   "outputs": [],
   "source": [
    "from rating_model import TeamResults\n",
    "from rating_model import PICKLE_PROTOCOL\n",
    "from rating_model import EMRatingModel, get_player_skills, estimate_rank\n",
    "from utils import load_pickle, dump_pickle, optimize_dataframe_numeric_dtypes"
   ]
  },
  {
   "cell_type": "markdown",
   "metadata": {},
   "source": [
    "# 1 Предобработка данных"
   ]
  },
  {
   "cell_type": "markdown",
   "metadata": {},
   "source": [
    "Основная логика предоработки данных содержится в .py файлах проекта."
   ]
  },
  {
   "cell_type": "code",
   "execution_count": 13,
   "metadata": {},
   "outputs": [],
   "source": [
    "tours_datapath = pathlib.Path(\"data\", \"pickle_data\", \"tournaments-dt.pickle\")"
   ]
  },
  {
   "cell_type": "code",
   "execution_count": 14,
   "metadata": {},
   "outputs": [],
   "source": [
    "tours = pd.read_pickle(tours_datapath)"
   ]
  },
  {
   "cell_type": "code",
   "execution_count": 15,
   "metadata": {},
   "outputs": [],
   "source": [
    "players_datapath = pathlib.Path(\"data\", \"pickle_data\", \"players-dt.pickle\")"
   ]
  },
  {
   "cell_type": "code",
   "execution_count": 16,
   "metadata": {},
   "outputs": [],
   "source": [
    "players_info = pd.read_pickle(players_datapath)"
   ]
  },
  {
   "cell_type": "code",
   "execution_count": 17,
   "metadata": {},
   "outputs": [],
   "source": [
    "team_res_datapath = pathlib.Path(\n",
    "    \"data\", \"team_res\", \"train_team_results.pickle\")"
   ]
  },
  {
   "cell_type": "code",
   "execution_count": 18,
   "metadata": {},
   "outputs": [],
   "source": [
    "team_res = load_pickle(team_res_datapath)"
   ]
  },
  {
   "cell_type": "code",
   "execution_count": 19,
   "metadata": {},
   "outputs": [],
   "source": [
    "total_unknown_team_players = 0\n",
    "total_unknown_answers = 0\n",
    "for tour_id in team_res.tours:\n",
    "    for team_id in team_res[tour_id]:\n",
    "        team = team_res[tour_id][team_id]\n",
    "        if not team.members:\n",
    "            total_unknown_team_players += 1\n",
    "        if not team.mask:\n",
    "            total_unknown_answers += 1"
   ]
  },
  {
   "cell_type": "code",
   "execution_count": 20,
   "metadata": {},
   "outputs": [
    {
     "name": "stdout",
     "output_type": "stream",
     "text": [
      "Количество команд без состава команды: \n",
      "69\n",
      "Количество команд с неизвестными повопроснами результатами: \n",
      "173\n"
     ]
    }
   ],
   "source": [
    "print(\"Количество команд без состава команды: \", total_unknown_team_players,\n",
    "      \"Количество команд с неизвестными повопроснами результатами: \", total_unknown_answers, sep=\"\\n\")"
   ]
  },
  {
   "cell_type": "code",
   "execution_count": 21,
   "metadata": {},
   "outputs": [
    {
     "name": "stdout",
     "output_type": "stream",
     "text": [
      "<class 'pandas.core.frame.DataFrame'>\n",
      "Int64Index: 1105 entries, 4628 to 6485\n",
      "Data columns (total 8 columns):\n",
      " #   Column        Non-Null Count  Dtype              \n",
      "---  ------        --------------  -----              \n",
      " 0   name          1105 non-null   object             \n",
      " 1   dateStart     1105 non-null   datetime64[ns, UTC]\n",
      " 2   dateEnd       1105 non-null   datetime64[ns, UTC]\n",
      " 3   type          1105 non-null   object             \n",
      " 4   season        1015 non-null   object             \n",
      " 5   orgcommittee  1105 non-null   object             \n",
      " 6   synchData     669 non-null    object             \n",
      " 7   questionQty   1105 non-null   object             \n",
      "dtypes: datetime64[ns, UTC](2), object(6)\n",
      "memory usage: 77.7+ KB\n"
     ]
    }
   ],
   "source": [
    "tours.info()"
   ]
  },
  {
   "cell_type": "code",
   "execution_count": 22,
   "metadata": {},
   "outputs": [],
   "source": [
    "players_dump = pathlib.Path(\"dump\", \"players.pickle\")\n",
    "players_dump.parent.mkdir(exist_ok=True, parents=True)"
   ]
  },
  {
   "cell_type": "code",
   "execution_count": 23,
   "metadata": {},
   "outputs": [],
   "source": [
    "force_get_players = False"
   ]
  },
  {
   "cell_type": "code",
   "execution_count": 24,
   "metadata": {},
   "outputs": [],
   "source": [
    "players = None"
   ]
  },
  {
   "cell_type": "code",
   "execution_count": 25,
   "metadata": {},
   "outputs": [],
   "source": [
    "if not players_dump.exists() or force_get_players:\n",
    "    players = team_res.to_player_dataframe(filter_by_mask=True)\n",
    "    optimize_dataframe_numeric_dtypes(players)\n",
    "    dump_pickle(players_dump, players)\n",
    "else:\n",
    "    players = load_pickle(players_dump)"
   ]
  },
  {
   "cell_type": "code",
   "execution_count": 26,
   "metadata": {},
   "outputs": [],
   "source": [
    "assert players.index.is_monotonic_increasing"
   ]
  },
  {
   "cell_type": "code",
   "execution_count": 27,
   "metadata": {},
   "outputs": [
    {
     "name": "stdout",
     "output_type": "stream",
     "text": [
      "<class 'pandas.core.frame.DataFrame'>\n",
      "RangeIndex: 17823516 entries, 0 to 17823515\n",
      "Data columns (total 5 columns):\n",
      " #   Column           Dtype\n",
      "---  ------           -----\n",
      " 0   tour_id          int16\n",
      " 1   team_id          int32\n",
      " 2   player_id        int32\n",
      " 3   answer_id        int32\n",
      " 4   is_right_answer  bool \n",
      "dtypes: bool(1), int16(1), int32(3)\n",
      "memory usage: 255.0 MB\n"
     ]
    }
   ],
   "source": [
    "players.info()"
   ]
  },
  {
   "cell_type": "code",
   "execution_count": 28,
   "metadata": {},
   "outputs": [
    {
     "data": {
      "text/html": [
       "<div>\n",
       "<style scoped>\n",
       "    .dataframe tbody tr th:only-of-type {\n",
       "        vertical-align: middle;\n",
       "    }\n",
       "\n",
       "    .dataframe tbody tr th {\n",
       "        vertical-align: top;\n",
       "    }\n",
       "\n",
       "    .dataframe thead th {\n",
       "        text-align: right;\n",
       "    }\n",
       "</style>\n",
       "<table border=\"1\" class=\"dataframe\">\n",
       "  <thead>\n",
       "    <tr style=\"text-align: right;\">\n",
       "      <th></th>\n",
       "      <th>tour_id</th>\n",
       "      <th>team_id</th>\n",
       "      <th>player_id</th>\n",
       "      <th>answer_id</th>\n",
       "      <th>is_right_answer</th>\n",
       "    </tr>\n",
       "  </thead>\n",
       "  <tbody>\n",
       "    <tr>\n",
       "      <th>0</th>\n",
       "      <td>4772</td>\n",
       "      <td>45556</td>\n",
       "      <td>6212</td>\n",
       "      <td>0</td>\n",
       "      <td>True</td>\n",
       "    </tr>\n",
       "    <tr>\n",
       "      <th>1</th>\n",
       "      <td>4772</td>\n",
       "      <td>45556</td>\n",
       "      <td>6212</td>\n",
       "      <td>1</td>\n",
       "      <td>True</td>\n",
       "    </tr>\n",
       "    <tr>\n",
       "      <th>2</th>\n",
       "      <td>4772</td>\n",
       "      <td>45556</td>\n",
       "      <td>6212</td>\n",
       "      <td>2</td>\n",
       "      <td>True</td>\n",
       "    </tr>\n",
       "    <tr>\n",
       "      <th>3</th>\n",
       "      <td>4772</td>\n",
       "      <td>45556</td>\n",
       "      <td>6212</td>\n",
       "      <td>3</td>\n",
       "      <td>True</td>\n",
       "    </tr>\n",
       "    <tr>\n",
       "      <th>4</th>\n",
       "      <td>4772</td>\n",
       "      <td>45556</td>\n",
       "      <td>6212</td>\n",
       "      <td>4</td>\n",
       "      <td>True</td>\n",
       "    </tr>\n",
       "  </tbody>\n",
       "</table>\n",
       "</div>"
      ],
      "text/plain": [
       "   tour_id  team_id  player_id  answer_id  is_right_answer\n",
       "0     4772    45556       6212          0             True\n",
       "1     4772    45556       6212          1             True\n",
       "2     4772    45556       6212          2             True\n",
       "3     4772    45556       6212          3             True\n",
       "4     4772    45556       6212          4             True"
      ]
     },
     "execution_count": 28,
     "metadata": {},
     "output_type": "execute_result"
    }
   ],
   "source": [
    "players.head()"
   ]
  },
  {
   "cell_type": "markdown",
   "metadata": {},
   "source": [
    "## 2 Построение логистической регрессии для ранжирования игроков"
   ]
  },
  {
   "cell_type": "markdown",
   "metadata": {},
   "source": [
    "Пусть параметры модели образуют составляют вектор $w = \\left(s_1,s_2,\\ldots,s_P, c_1, c_2, \\ldots, c_A, b \\right)^T,$ где $P-$ общее число игроков, $A-$ общее число вопросов. Таким образом значения параметров будут обозначать \"силы игроков\" $s_i, i=1,\\ldots,P$ и сложнности вопросов $c_j, j=1,\\ldots,A$, $b$- глоабальный коэффициент смещения/"
   ]
  },
  {
   "cell_type": "markdown",
   "metadata": {},
   "source": [
    "Распредление ответов по всем игрокам:"
   ]
  },
  {
   "cell_type": "code",
   "execution_count": 29,
   "metadata": {},
   "outputs": [
    {
     "data": {
      "text/plain": [
       "<AxesSubplot:>"
      ]
     },
     "execution_count": 29,
     "metadata": {},
     "output_type": "execute_result"
    },
    {
     "data": {
      "image/png": "[encoded data removed]",
      "text/plain": [
       "<Figure size 576x576 with 1 Axes>"
      ]
     },
     "metadata": {
      "needs_background": "light"
     },
     "output_type": "display_data"
    }
   ],
   "source": [
    "players[\"is_right_answer\"].value_counts(normalize=True).plot.bar()"
   ]
  },
  {
   "cell_type": "code",
   "execution_count": 30,
   "metadata": {},
   "outputs": [],
   "source": [
    "feature_dtype = np.float64"
   ]
  },
  {
   "cell_type": "code",
   "execution_count": 31,
   "metadata": {},
   "outputs": [],
   "source": [
    "def get_features_target(players: pd.DataFrame, feature_dtype):\n",
    "    skils_encoder = preprocessing.OneHotEncoder(dtype=feature_dtype)\n",
    "    skils_features_one_hot = skils_encoder.fit_transform(players[\"player_id\"].to_numpy().reshape(-1, 1))\n",
    "    questione_complex_encoder = preprocessing.OneHotEncoder(dtype=feature_dtype)\n",
    "    question_complices_one_hot = questione_complex_encoder.fit_transform(players[\"answer_id\"].to_numpy().reshape(-1, 1))\n",
    "    features = sparse.hstack(\n",
    "    (skils_features_one_hot, question_complices_one_hot), format=\"csr\")\n",
    "    return skils_encoder, questione_complex_encoder, features, players[\"is_right_answer\"].astype(np.int8).to_numpy()"
   ]
  },
  {
   "cell_type": "code",
   "execution_count": 32,
   "metadata": {
    "tags": []
   },
   "outputs": [],
   "source": [
    "skils_encoder, questione_complex_encoder, features, target = get_features_target(players, feature_dtype)"
   ]
  },
  {
   "cell_type": "code",
   "execution_count": 33,
   "metadata": {},
   "outputs": [],
   "source": [
    "assert sparse.isspmatrix_csr(features)"
   ]
  },
  {
   "cell_type": "code",
   "execution_count": 34,
   "metadata": {},
   "outputs": [
    {
     "data": {
      "text/plain": [
       "<17823516x91209 sparse matrix of type '<class 'numpy.float64'>'\n",
       "\twith 35647032 stored elements in Compressed Sparse Row format>"
      ]
     },
     "execution_count": 34,
     "metadata": {},
     "output_type": "execute_result"
    }
   ],
   "source": [
    "features"
   ]
  },
  {
   "cell_type": "code",
   "execution_count": 35,
   "metadata": {},
   "outputs": [],
   "source": [
    "dump_model_filepath = pathlib.Path(\"model\", \"log-reg\")"
   ]
  },
  {
   "cell_type": "code",
   "execution_count": 36,
   "metadata": {},
   "outputs": [],
   "source": [
    "dump_model_filepath.mkdir(parents=True, exist_ok=True)"
   ]
  },
  {
   "cell_type": "code",
   "execution_count": 37,
   "metadata": {},
   "outputs": [],
   "source": [
    "force_train = False"
   ]
  },
  {
   "cell_type": "code",
   "execution_count": 38,
   "metadata": {},
   "outputs": [],
   "source": [
    "model_dump = dump_model_filepath / \"log-reg.pickle\""
   ]
  },
  {
   "cell_type": "code",
   "execution_count": 39,
   "metadata": {},
   "outputs": [],
   "source": [
    "regression = None"
   ]
  },
  {
   "cell_type": "code",
   "execution_count": 40,
   "metadata": {},
   "outputs": [],
   "source": [
    "if not force_train and model_dump.exists():\n",
    "    regression = load_pickle(model_dump)"
   ]
  },
  {
   "cell_type": "code",
   "execution_count": 41,
   "metadata": {},
   "outputs": [],
   "source": [
    "if regression is None:\n",
    "    regression = linear_model.LogisticRegression(\n",
    "        penalty=\"l1\", C=1000, solver=\"liblinear\", verbose=2, max_iter=25, fit_intercept=True)\n",
    "    regression.fit(features, target)\n",
    "    dump_pickle(model_dump, regression)"
   ]
  },
  {
   "cell_type": "markdown",
   "metadata": {},
   "source": [
    "### Рейтинг игроков"
   ]
  },
  {
   "cell_type": "markdown",
   "metadata": {},
   "source": [
    "Сравним позиции игроков на основе рейтингов с реальными позициями на момент [26 декабря 2019 (выгрузка содержит только первые 1000 записей)](https://rating.chgk.info/players.php?release=1429&surname=&name=&patronymic=&idplayer=28751&town=&search=%D0%98%D1%81%D0%BA%D0%B0%D1%82%D1%8C)"
   ]
  },
  {
   "cell_type": "code",
   "execution_count": 42,
   "metadata": {},
   "outputs": [],
   "source": [
    "path_to_real_ratings = pathlib.Path(\n",
    "    \"data\", \"raw_data\", \"players-release-2019-12-26.csv\")"
   ]
  },
  {
   "cell_type": "code",
   "execution_count": 43,
   "metadata": {},
   "outputs": [],
   "source": [
    "top_n = 10"
   ]
  },
  {
   "cell_type": "code",
   "execution_count": 44,
   "metadata": {},
   "outputs": [],
   "source": [
    "real_data = pd.read_csv(path_to_real_ratings, usecols=[\n",
    "                        \"id\", \"Место\"], index_col=\"id\", nrows=top_n)"
   ]
  },
  {
   "cell_type": "code",
   "execution_count": 45,
   "metadata": {
    "tags": []
   },
   "outputs": [],
   "source": [
    "player_ratings = get_player_skills(skils_encoder, regression.coef_[0])\n",
    "player_ratings.sort_values(\"skill\", inplace=True, ascending=False)"
   ]
  },
  {
   "cell_type": "code",
   "execution_count": 46,
   "metadata": {},
   "outputs": [
    {
     "data": {
      "text/html": [
       "<div>\n",
       "<style scoped>\n",
       "    .dataframe tbody tr th:only-of-type {\n",
       "        vertical-align: middle;\n",
       "    }\n",
       "\n",
       "    .dataframe tbody tr th {\n",
       "        vertical-align: top;\n",
       "    }\n",
       "\n",
       "    .dataframe thead th {\n",
       "        text-align: right;\n",
       "    }\n",
       "</style>\n",
       "<table border=\"1\" class=\"dataframe\">\n",
       "  <thead>\n",
       "    <tr style=\"text-align: right;\">\n",
       "      <th></th>\n",
       "      <th>skill</th>\n",
       "      <th>Место</th>\n",
       "    </tr>\n",
       "  </thead>\n",
       "  <tbody>\n",
       "    <tr>\n",
       "      <th>27403</th>\n",
       "      <td>3.107026</td>\n",
       "      <td>5.0</td>\n",
       "    </tr>\n",
       "    <tr>\n",
       "      <th>4270</th>\n",
       "      <td>2.970318</td>\n",
       "      <td>6.0</td>\n",
       "    </tr>\n",
       "    <tr>\n",
       "      <th>28751</th>\n",
       "      <td>2.917373</td>\n",
       "      <td>2.0</td>\n",
       "    </tr>\n",
       "    <tr>\n",
       "      <th>27822</th>\n",
       "      <td>2.829079</td>\n",
       "      <td>3.0</td>\n",
       "    </tr>\n",
       "    <tr>\n",
       "      <th>30270</th>\n",
       "      <td>2.757737</td>\n",
       "      <td>4.0</td>\n",
       "    </tr>\n",
       "    <tr>\n",
       "      <th>40411</th>\n",
       "      <td>2.755631</td>\n",
       "      <td>NaN</td>\n",
       "    </tr>\n",
       "    <tr>\n",
       "      <th>30152</th>\n",
       "      <td>2.744717</td>\n",
       "      <td>1.0</td>\n",
       "    </tr>\n",
       "    <tr>\n",
       "      <th>38175</th>\n",
       "      <td>2.685589</td>\n",
       "      <td>NaN</td>\n",
       "    </tr>\n",
       "    <tr>\n",
       "      <th>20691</th>\n",
       "      <td>2.647100</td>\n",
       "      <td>NaN</td>\n",
       "    </tr>\n",
       "    <tr>\n",
       "      <th>199963</th>\n",
       "      <td>2.604934</td>\n",
       "      <td>NaN</td>\n",
       "    </tr>\n",
       "  </tbody>\n",
       "</table>\n",
       "</div>"
      ],
      "text/plain": [
       "           skill  Место\n",
       "27403   3.107026    5.0\n",
       "4270    2.970318    6.0\n",
       "28751   2.917373    2.0\n",
       "27822   2.829079    3.0\n",
       "30270   2.757737    4.0\n",
       "40411   2.755631    NaN\n",
       "30152   2.744717    1.0\n",
       "38175   2.685589    NaN\n",
       "20691   2.647100    NaN\n",
       "199963  2.604934    NaN"
      ]
     },
     "execution_count": 46,
     "metadata": {},
     "output_type": "execute_result"
    }
   ],
   "source": [
    "player_ratings[:top_n].join(real_data)"
   ]
  },
  {
   "cell_type": "markdown",
   "metadata": {},
   "source": [
    "В результате часть игроков, попавшие в топ из реального рейтинга совпали с результатом ранжирования после обучения логистической регрессии, но их позиции точно не совпали. Существуют игроки, которых не было в реальном рейтинге топ-1000. "
   ]
  },
  {
   "cell_type": "markdown",
   "metadata": {},
   "source": [
    "## 3 Оценка результатов"
   ]
  },
  {
   "cell_type": "markdown",
   "metadata": {},
   "source": [
    "Для сравнение команд воспользуемся простым правилом. Для каждой команды в турнире её \"сила\" будет определяться как среднее значение \"силы  игроков\". После команды ранжируются на основании значений их \"силы\". "
   ]
  },
  {
   "cell_type": "code",
   "execution_count": 47,
   "metadata": {},
   "outputs": [],
   "source": [
    "test_team_res_datapath = pathlib.Path(\n",
    "    \"data\", \"team_res\", \"test_team_results.pickle\")"
   ]
  },
  {
   "cell_type": "code",
   "execution_count": 48,
   "metadata": {},
   "outputs": [],
   "source": [
    "team_res_test = load_pickle(test_team_res_datapath)"
   ]
  },
  {
   "cell_type": "code",
   "execution_count": 49,
   "metadata": {},
   "outputs": [],
   "source": [
    "test_team_ratings = team_res_test.to_team_rating_by_tour()"
   ]
  },
  {
   "cell_type": "code",
   "execution_count": 50,
   "metadata": {},
   "outputs": [
    {
     "data": {
      "text/html": [
       "<div>\n",
       "<style scoped>\n",
       "    .dataframe tbody tr th:only-of-type {\n",
       "        vertical-align: middle;\n",
       "    }\n",
       "\n",
       "    .dataframe tbody tr th {\n",
       "        vertical-align: top;\n",
       "    }\n",
       "\n",
       "    .dataframe thead th {\n",
       "        text-align: right;\n",
       "    }\n",
       "</style>\n",
       "<table border=\"1\" class=\"dataframe\">\n",
       "  <thead>\n",
       "    <tr style=\"text-align: right;\">\n",
       "      <th></th>\n",
       "      <th>tour_id</th>\n",
       "      <th>members</th>\n",
       "      <th>team_id</th>\n",
       "      <th>tour_rating</th>\n",
       "    </tr>\n",
       "  </thead>\n",
       "  <tbody>\n",
       "    <tr>\n",
       "      <th>0</th>\n",
       "      <td>4957</td>\n",
       "      <td>(30152, 30270, 27822, 28751, 27403, 4270)</td>\n",
       "      <td>49804</td>\n",
       "      <td>1.0</td>\n",
       "    </tr>\n",
       "    <tr>\n",
       "      <th>1</th>\n",
       "      <td>4957</td>\n",
       "      <td>(34936, 40877, 25177, 113703, 33792, 107161)</td>\n",
       "      <td>4109</td>\n",
       "      <td>2.0</td>\n",
       "    </tr>\n",
       "    <tr>\n",
       "      <th>2</th>\n",
       "      <td>4957</td>\n",
       "      <td>(33620, 21346, 13857, 46339, 37836, 19632)</td>\n",
       "      <td>3875</td>\n",
       "      <td>3.0</td>\n",
       "    </tr>\n",
       "    <tr>\n",
       "      <th>3</th>\n",
       "      <td>4957</td>\n",
       "      <td>(32901, 28689, 19541, 13689, 9801, 18194)</td>\n",
       "      <td>77418</td>\n",
       "      <td>4.0</td>\n",
       "    </tr>\n",
       "    <tr>\n",
       "      <th>4</th>\n",
       "      <td>4957</td>\n",
       "      <td>(6482, 34846, 36120, 32458, 25882, 30475)</td>\n",
       "      <td>2</td>\n",
       "      <td>5.5</td>\n",
       "    </tr>\n",
       "  </tbody>\n",
       "</table>\n",
       "</div>"
      ],
      "text/plain": [
       "   tour_id                                       members  team_id  tour_rating\n",
       "0     4957     (30152, 30270, 27822, 28751, 27403, 4270)    49804          1.0\n",
       "1     4957  (34936, 40877, 25177, 113703, 33792, 107161)     4109          2.0\n",
       "2     4957    (33620, 21346, 13857, 46339, 37836, 19632)     3875          3.0\n",
       "3     4957     (32901, 28689, 19541, 13689, 9801, 18194)    77418          4.0\n",
       "4     4957     (6482, 34846, 36120, 32458, 25882, 30475)        2          5.5"
      ]
     },
     "execution_count": 50,
     "metadata": {},
     "output_type": "execute_result"
    }
   ],
   "source": [
    "test_team_ratings.head()"
   ]
  },
  {
   "cell_type": "markdown",
   "metadata": {},
   "source": [
    "### Коэффициент ранговой корреляции Кендалла и Спирмена "
   ]
  },
  {
   "cell_type": "code",
   "execution_count": 51,
   "metadata": {},
   "outputs": [],
   "source": [
    "baseline = estimate_rank(test_team_ratings, player_ratings)"
   ]
  },
  {
   "cell_type": "code",
   "execution_count": 52,
   "metadata": {},
   "outputs": [
    {
     "name": "stdout",
     "output_type": "stream",
     "text": [
      "('Kendall', 0.60875620064822)\n",
      "('Spearman', 0.7716014463677552)\n"
     ]
    }
   ],
   "source": [
    "print(*baseline.items(), sep=\"\\n\")"
   ]
  },
  {
   "cell_type": "code",
   "execution_count": 53,
   "metadata": {},
   "outputs": [],
   "source": [
    "del player_ratings"
   ]
  },
  {
   "cell_type": "markdown",
   "metadata": {},
   "source": [
    "## 4 EM алгоритм"
   ]
  },
  {
   "cell_type": "markdown",
   "metadata": {},
   "source": [
    "Рассмртрим ответы команды на вопросы. Если команда $t$ ответила на вопрос $q$, то это означает, что хотя бы один игрок ответил на вопрос. Если команда не ответила на вопрос, то это означает, что ни один игрок также не оветил на вопрос.\n",
    "\n",
    "Таким образом введём скрытые переменные: $h_{i,q}$- игорок под номером $i$ ответил на вопрос $q$. Они связаны с $x_{t,q}$ следующим соотношением:\n",
    "$$\n",
    "x_{t,q} = \n",
    "\\begin{cases}\n",
    "0, \\text{ то } h_{i,q} = 0 \\text{ для всех игроков в команде } t,\\\\\n",
    "1, \\text{ то } \\exists i \\in t : h_{i,q}=1 \\text{ т. е. хотя бы один игрока в команде } t \\text{ ответил правильно}. \n",
    "\\end{cases}\n",
    "$$\n",
    "\n",
    "Пусть распределение $h_{i,q}$ при условии \"силы\" игрока и сложности вопроса моделируется с помощью сигмоиды $p\\left(h_{i,q} \\vert s_i, c_q\\right) \\sim \\sigma\\left(b + s_i + c_q\\right), s_i-$ сила игрока $i$, $c_q-$ сложность вопроса $q$, $b \\in \\mathbb{R}-$ глобальное смещение, $\\sigma\\left(\\cdot\\right)-$ сигмоида.\n",
    "\n",
    "Рассмотрим итерацию EM-алгоритма для шага $m \\geq 0$."
   ]
  },
  {
   "cell_type": "markdown",
   "metadata": {},
   "source": [
    "## E-шаг"
   ]
  },
  {
   "cell_type": "markdown",
   "metadata": {},
   "source": [
    "$$\n",
    "\\mathrm{M} \\left[ h^{(m+1)}_{i,q} \\right] = \n",
    "\\begin{cases}\n",
    "0, \\forall i \\in t : x_{t,q} = 0,\\\\\n",
    "p\\left( h^{(m)}_{i,q} = 1 \\vert \\exists j \\in t : h^{(m)}_{j,q} = 1\\right) =\n",
    "\\dfrac{\\sigma \\left(b^{(m)} + s^{(m)}_i + c^{(m)}_q\\right)}{1-\\prod\\limits_{k \\in t} \\left(1 - \\sigma\\left(b^{(m)} + s^{(m)}_k + c^{(m)}_q\\right)\\right)}, \\text{ если } x_{t,q} = 1.\n",
    "\\end{cases}\n",
    "$$"
   ]
  },
  {
   "cell_type": "markdown",
   "metadata": {},
   "source": [
    "## М-шаг"
   ]
  },
  {
   "cell_type": "markdown",
   "metadata": {},
   "source": [
    "Происходит обучение логистичексой регрессии при известных $\\mathrm{M} \\left[ h^{(m+1)}_{i,q} \\right]$ и уточнение параметров:\n",
    "$$\n",
    "\\mathrm{M} \\left[ h^{(m+1)}_{i,q} \\right] \\sim \\sigma\\left(b^{(m+1)} + s^{(m+1)}_i + c^{(m+1)}_q\\right)\n",
    "$$\n",
    "\n",
    "В качестве начального приближения параметров возьмём значения, полученные при обучении логистической регрессии."
   ]
  },
  {
   "cell_type": "code",
   "execution_count": 54,
   "metadata": {},
   "outputs": [],
   "source": [
    "def train_em(features, target, players, skils_encoder, test_team_ratings, baseline, init_weights, init_bias):\n",
    "    coo_features = features.tocoo(copy=False)\n",
    "    device = torch.device(\"cuda\" if torch.cuda.is_available() else \"cpu\")\n",
    "    \n",
    "    log_dir = pathlib.Path(\"em_train\", \"logs\")\n",
    "    if log_dir.exists():\n",
    "        shutil.rmtree(log_dir)\n",
    "    log_dir.mkdir(exist_ok=True, parents=True)\n",
    "\n",
    "    checkpoint_dir = pathlib.Path(\"em_train\", \"checkpoints\")\n",
    "    if checkpoint_dir.exists():\n",
    "        shutil.rmtree(checkpoint_dir)\n",
    "    checkpoint_dir.mkdir(exist_ok=True, parents=True)\n",
    "\n",
    "    em_model = EMRatingModel(em_num_iter=8, lr=1e-4,\n",
    "                             log_reg_num_iter=5, device=device, log_dir=log_dir, checkpoint_dir=str(checkpoint_dir))\n",
    "    \n",
    "    metrics_history = em_model.fit(coo_features, target, players, skils_encoder,\n",
    "                               test_team_ratings, baseline, init_weights, init_bias)\n",
    "    return metrics_history, em_model.best_checkpoint_file()"
   ]
  },
  {
   "cell_type": "code",
   "execution_count": null,
   "metadata": {},
   "outputs": [
    {
     "name": "stdout",
     "output_type": "stream",
     "text": [
      "2021-04-08 02:05:51,847 INFO em_algo __init__ Will train logistic regression on cuda\n",
      "2021-04-08 02:06:02,723 INFO em_algo _build_player_team_round_indices Building mask for zeroing hidden variables\n",
      "2021-04-08 02:06:02,742 INFO em_algo _build_player_team_round_indices Use 100000 as base value for grouping\n"
     ]
    },
    {
     "name": "stderr",
     "output_type": "stream",
     "text": [
      "100%|█████████████████████████████████████████████████████████████████████████| 80385/80385 [00:07<00:00, 10152.13it/s]\n",
      "M step:   0%|                                                                                    | 0/8 [00:11<?, ?it/s]\n",
      "Train logistic regression:   0%|                                                                 | 0/5 [00:00<?, ?it/s]\u001b[A\n",
      "Train logistic regression:   0%|                       | 0/5 [00:00<?, ?it/s, Binary cross entropy=0.464, MAE=0.000148]\u001b[A\n",
      "Train logistic regression:  20%|███            | 1/5 [00:00<00:03,  1.29it/s, Binary cross entropy=0.464, MAE=0.000148]\u001b[A\n",
      "Train logistic regression:  20%|███            | 1/5 [00:01<00:03,  1.29it/s, Binary cross entropy=0.464, MAE=0.000166]\u001b[A\n",
      "Train logistic regression:  40%|██████         | 2/5 [00:01<00:02,  1.32it/s, Binary cross entropy=0.464, MAE=0.000166]\u001b[A\n",
      "Train logistic regression:  40%|██████         | 2/5 [00:02<00:02,  1.32it/s, Binary cross entropy=0.464, MAE=0.000181]\u001b[A\n",
      "Train logistic regression:  60%|█████████      | 3/5 [00:02<00:01,  1.33it/s, Binary cross entropy=0.464, MAE=0.000181]\u001b[A\n",
      "Train logistic regression:  60%|█████████      | 3/5 [00:03<00:01,  1.33it/s, Binary cross entropy=0.464, MAE=0.000195]\u001b[A\n",
      "Train logistic regression:  80%|████████████   | 4/5 [00:03<00:00,  1.33it/s, Binary cross entropy=0.464, MAE=0.000195]\u001b[A\n",
      "Train logistic regression:  80%|████████████   | 4/5 [00:03<00:00,  1.33it/s, Binary cross entropy=0.464, MAE=0.000208]\u001b[A\n",
      "Train logistic regression: 100%|███████████████| 5/5 [00:03<00:00,  1.33it/s, Binary cross entropy=0.464, MAE=0.000208]\u001b[A\n"
     ]
    }
   ],
   "source": [
    "metrics_history, path_to_checkpoint = train_em(features, target, players, skils_encoder, test_team_ratings, baseline, regression.coef_, regression.intercept_)"
   ]
  },
  {
   "cell_type": "code",
   "execution_count": null,
   "metadata": {},
   "outputs": [],
   "source": [
    "def plot_target_metrics(metrics_history: dict):\n",
    "    iterations = metrics_history[\"em_iter\"]\n",
    "\n",
    "    fig = plt.figure(figsize=(15, 7))\n",
    "    axes = fig.subplots(1, len(metrics_history) - 1)\n",
    "    for ax_num, metric_name in enumerate(filter(lambda x: x != \"em_iter\", metrics_history)):\n",
    "        axes[ax_num].plot(\n",
    "            iterations, metrics_history[metric_name], label=metric_name)\n",
    "        axes[ax_num].hlines(baseline[metric_name], 0, max(\n",
    "            iterations), colors=\"red\", label=\"baseline\")\n",
    "        axes[ax_num].legend()\n",
    "        axes[ax_num].set_xlabel(\"Итерация EM алгоритма\")\n",
    "        axes[ax_num].set_ylabel(\"Значение метрики\")\n",
    "        axes[ax_num].grid(True)"
   ]
  },
  {
   "cell_type": "code",
   "execution_count": null,
   "metadata": {},
   "outputs": [],
   "source": [
    "plot_target_metrics(metrics_history)"
   ]
  },
  {
   "cell_type": "markdown",
   "metadata": {},
   "source": [
    "# 5 \"Рейтинг-лист\" турниров по сложности вопросов"
   ]
  },
  {
   "cell_type": "code",
   "execution_count": null,
   "metadata": {},
   "outputs": [],
   "source": [
    "state_key = \"lin_layer.weight\""
   ]
  },
  {
   "cell_type": "code",
   "execution_count": null,
   "metadata": {},
   "outputs": [],
   "source": [
    "weights = torch.load(path_to_checkpoint, map_location=\"cpu\")[state_key][0].numpy()"
   ]
  },
  {
   "cell_type": "code",
   "execution_count": null,
   "metadata": {},
   "outputs": [],
   "source": [
    "question_complex = pd.DataFrame({\"question_complex\": weights[len(skils_encoder.categories_[0]):]}, index=questione_complex_encoder.categories_[0])\n",
    "question_complex.index.name = \"answer_id\""
   ]
  },
  {
   "cell_type": "code",
   "execution_count": null,
   "metadata": {},
   "outputs": [],
   "source": [
    "question_complex.head()"
   ]
  },
  {
   "cell_type": "markdown",
   "metadata": {},
   "source": [
    "## Распредление сложностей вопросов"
   ]
  },
  {
   "cell_type": "code",
   "execution_count": null,
   "metadata": {},
   "outputs": [],
   "source": [
    "question_complex.plot.kde()"
   ]
  },
  {
   "cell_type": "code",
   "execution_count": null,
   "metadata": {},
   "outputs": [],
   "source": [
    "def question_to_complex(questions_ids, question_complexices, top_n: int = 10):\n",
    "    complexices = question_complexices.loc[questions_ids, \"question_complex\"].to_numpy()\n",
    "    return np.mean(complexices)"
   ]
  },
  {
   "cell_type": "code",
   "execution_count": null,
   "metadata": {},
   "outputs": [],
   "source": [
    "tours_with_questios = players[[\"tour_id\", \"answer_id\"]].groupby(\"tour_id\").apply(lambda x: x[\"answer_id\"].to_list())\n",
    "tours_with_questios = tours_with_questios.apply(lambda x: question_to_complex(x, question_complex, 5))"
   ]
  },
  {
   "cell_type": "code",
   "execution_count": null,
   "metadata": {},
   "outputs": [],
   "source": [
    "tours_with_questios.sort_values(ascending=True, inplace=True)"
   ]
  },
  {
   "cell_type": "code",
   "execution_count": null,
   "metadata": {},
   "outputs": [],
   "source": [
    "tours_with_questios.head()"
   ]
  },
  {
   "cell_type": "code",
   "execution_count": null,
   "metadata": {},
   "outputs": [],
   "source": [
    "target.shape"
   ]
  },
  {
   "cell_type": "code",
   "execution_count": null,
   "metadata": {},
   "outputs": [],
   "source": [
    "top_n = 10"
   ]
  },
  {
   "cell_type": "code",
   "execution_count": null,
   "metadata": {},
   "outputs": [],
   "source": [
    "tours.loc[tours_with_questios.iloc[:top_n].index, [\"name\", \"type\"]]"
   ]
  },
  {
   "cell_type": "code",
   "execution_count": null,
   "metadata": {},
   "outputs": [],
   "source": [
    "tours.loc[tours_with_questios.iloc[-top_n:].index, [\"name\", \"type\"]]"
   ]
  },
  {
   "cell_type": "markdown",
   "metadata": {},
   "source": [
    "Интуитивно в список турниров со сложными вопросами попали чемпионаты, а также турниры высшей лиги. В спсиок простых турниров попали более локальнеы туриниы. Некторые и них с упоминанием lite. Соответсвенно, ожидаемо, что чемионаты или турниры высшей лиги будут сложнее чем школьные лиги или студенческие чемпионаты."
   ]
  },
  {
   "cell_type": "markdown",
   "metadata": {},
   "source": [
    "Посмотрим на визуализацию ответов команд в этих турнирах."
   ]
  },
  {
   "cell_type": "code",
   "execution_count": null,
   "metadata": {},
   "outputs": [],
   "source": [
    "def plot_tour(team_res, tours, tour_id):\n",
    "    masks = []\n",
    "    team_ids = []\n",
    "    for team_id in team_res[tour_id]:\n",
    "        if team_res[tour_id][team_id].mask:\n",
    "            masks.append(team_res[tour_id][team_id].mask)\n",
    "            team_ids.append(team_id)\n",
    "    try:\n",
    "        fig = plt.figure(figsize=(15, 20))\n",
    "        ax = fig.add_subplot(111)\n",
    "        ax.imshow(tuple(zip(*masks)), cmap=\"gray\")\n",
    "        ax.set_xticks([])\n",
    "        ax.grid(False)\n",
    "        ax.grid(True, axis=\"y\", linewidth=2, color=\"red\")\n",
    "        ax.set_ylabel(\"Номер вопроса\")\n",
    "        ax.set_xlabel(\"Ответы команды\")\n",
    "        ax.set_title(tours.loc[tour_id, \"name\"])\n",
    "    except TypeError:\n",
    "        pass"
   ]
  },
  {
   "cell_type": "markdown",
   "metadata": {},
   "source": [
    "## Самые сложные турниры"
   ]
  },
  {
   "cell_type": "markdown",
   "metadata": {},
   "source": [
    "Виуализация ответов на вопросы. Белый цвет означает, что команда ответила на вопрос. Чёрный что не ответила. "
   ]
  },
  {
   "cell_type": "code",
   "execution_count": null,
   "metadata": {},
   "outputs": [],
   "source": [
    "for tour_id in tours_with_questios.iloc[:10].index:\n",
    "    plot_tour(team_res, tours, tour_id)"
   ]
  },
  {
   "cell_type": "markdown",
   "metadata": {},
   "source": [
    "## Самые простые турниры"
   ]
  },
  {
   "cell_type": "code",
   "execution_count": null,
   "metadata": {},
   "outputs": [],
   "source": [
    "for tour_id in tours_with_questios.iloc[-5:].index:\n",
    "    plot_tour(team_res, tours, tour_id)"
   ]
  },
  {
   "cell_type": "markdown",
   "metadata": {},
   "source": [
    "# 6 Бонус топ игроков"
   ]
  },
  {
   "cell_type": "code",
   "execution_count": null,
   "metadata": {},
   "outputs": [],
   "source": [
    "players.head()"
   ]
  },
  {
   "cell_type": "code",
   "execution_count": null,
   "metadata": {},
   "outputs": [],
   "source": [
    "players_total_questions = players.groupby(\"player_id\").agg(total_answers=(\"answer_id\", \"count\"), total_tours=(\"tour_id\", pd.Series.nunique))"
   ]
  },
  {
   "cell_type": "code",
   "execution_count": null,
   "metadata": {},
   "outputs": [],
   "source": [
    "player_ratings = get_player_skills(skils_encoder, weights)"
   ]
  },
  {
   "cell_type": "code",
   "execution_count": null,
   "metadata": {},
   "outputs": [],
   "source": [
    "player_skill_quest = players_total_questions.join(player_ratings)\n",
    "player_skill_quest.sort_values(\"skill\", inplace=True, ascending=False)"
   ]
  },
  {
   "cell_type": "code",
   "execution_count": null,
   "metadata": {},
   "outputs": [],
   "source": [
    "top_n = 15"
   ]
  },
  {
   "cell_type": "code",
   "execution_count": null,
   "metadata": {},
   "outputs": [],
   "source": [
    "player_skill_quest.head(n=top_n)"
   ]
  },
  {
   "cell_type": "markdown",
   "metadata": {},
   "source": [
    "Т. к. нам нужно, чтобы игрок отиграл хотя бы несколько турниров, то возьмём нижнию границу для числа вопросов, равное:"
   ]
  },
  {
   "cell_type": "code",
   "execution_count": null,
   "metadata": {},
   "outputs": [],
   "source": [
    "min_answers = player_skill_quest[\"total_answers\"].quantile(0.2)"
   ]
  },
  {
   "cell_type": "code",
   "execution_count": null,
   "metadata": {},
   "outputs": [],
   "source": [
    "min_answers"
   ]
  },
  {
   "cell_type": "markdown",
   "metadata": {},
   "source": [
    "Т. к. игроки мало играли, то их влияние на командный результат будет незначительным. Скорее всего это игроки, которые попробовали сыграть несколько раз и больше не играли. Данных для оценки их \"силы\" с точки зрения статистики достаточно мало, поэтому можно убраь их из данных для обучения."
   ]
  },
  {
   "cell_type": "code",
   "execution_count": null,
   "metadata": {},
   "outputs": [],
   "source": [
    "players_with_many_answers = player_skill_quest[player_skill_quest[\"total_answers\"] > min_answers].index"
   ]
  },
  {
   "cell_type": "code",
   "execution_count": null,
   "metadata": {},
   "outputs": [],
   "source": [
    "players.shape"
   ]
  },
  {
   "cell_type": "code",
   "execution_count": null,
   "metadata": {},
   "outputs": [],
   "source": [
    "filtered_players = players[players[\"player_id\"].isin(players_with_many_answers)]"
   ]
  },
  {
   "cell_type": "code",
   "execution_count": null,
   "metadata": {},
   "outputs": [],
   "source": [
    "filtered_players.head()"
   ]
  },
  {
   "cell_type": "code",
   "execution_count": null,
   "metadata": {},
   "outputs": [],
   "source": [
    "filtered_players.shape"
   ]
  },
  {
   "cell_type": "code",
   "execution_count": null,
   "metadata": {},
   "outputs": [],
   "source": [
    "skils_encoder, questione_complex_encoder, features, target = get_features_target(filtered_players, feature_dtype)"
   ]
  },
  {
   "cell_type": "code",
   "execution_count": null,
   "metadata": {},
   "outputs": [],
   "source": [
    "regression = linear_model.LogisticRegression(\n",
    "        penalty=\"l1\", C=1000, solver=\"liblinear\", verbose=2, max_iter=50, fit_intercept=True)\n",
    "regression.fit(features, target)"
   ]
  },
  {
   "cell_type": "code",
   "execution_count": null,
   "metadata": {},
   "outputs": [],
   "source": [
    "metrics_history, path_to_checkpoint = train_em(features, target, filtered_players, skils_encoder, test_team_ratings, baseline, regression.coef_, regression.intercept_)"
   ]
  },
  {
   "cell_type": "code",
   "execution_count": null,
   "metadata": {},
   "outputs": [],
   "source": [
    "plot_target_metrics(metrics_history)"
   ]
  },
  {
   "cell_type": "markdown",
   "metadata": {},
   "source": [
    "Результаты по сранению с EM алгоритмом при обучении нв всех игроках не сильно изменились. Один из коэффициентов вырос, а другой стал немного хуже."
   ]
  },
  {
   "cell_type": "code",
   "execution_count": null,
   "metadata": {},
   "outputs": [],
   "source": [
    "weights = torch.load(path_to_checkpoint, map_location=\"cpu\")[state_key][0].numpy()"
   ]
  },
  {
   "cell_type": "code",
   "execution_count": null,
   "metadata": {},
   "outputs": [],
   "source": [
    "player_ratings = get_player_skills(skils_encoder, weights)\n",
    "player_ratings.sort_values(\"skill\", inplace=True, ascending=False)"
   ]
  },
  {
   "cell_type": "code",
   "execution_count": null,
   "metadata": {},
   "outputs": [],
   "source": [
    "player_ratings = player_ratings.join(real_data)"
   ]
  },
  {
   "cell_type": "markdown",
   "metadata": {},
   "source": [
    "Топ игроков по сравнению с реальным рейтингом 2019 года."
   ]
  },
  {
   "cell_type": "code",
   "execution_count": null,
   "metadata": {},
   "outputs": [],
   "source": [
    "player_ratings.iloc[:15]"
   ]
  },
  {
   "cell_type": "code",
   "execution_count": null,
   "metadata": {},
   "outputs": [],
   "source": [
    "plt.hist(regression.coef_[0], bins=20)\n",
    "plt.title(\"Распредление \\\"силы игроков\\\"\")"
   ]
  },
  {
   "cell_type": "code",
   "execution_count": null,
   "metadata": {},
   "outputs": [],
   "source": []
  }
 ],
 "metadata": {
  "kernelspec": {
   "display_name": "Python [conda env:made-adv-ml2]",
   "language": "python",
   "name": "conda-env-made-adv-ml2-py"
  },
  "language_info": {
   "codemirror_mode": {
    "name": "ipython",
    "version": 3
   },
   "file_extension": ".py",
   "mimetype": "text/x-python",
   "name": "python",
   "nbconvert_exporter": "python",
   "pygments_lexer": "ipython3",
   "version": "3.8.5"
  }
 },
 "nbformat": 4,
 "nbformat_minor": 4
}
