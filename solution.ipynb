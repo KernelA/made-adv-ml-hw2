{
 "metadata": {
  "language_info": {
   "codemirror_mode": {
    "name": "ipython",
    "version": 3
   },
   "file_extension": ".py",
   "mimetype": "text/x-python",
   "name": "python",
   "nbconvert_exporter": "python",
   "pygments_lexer": "ipython3",
   "version": "3.8.5-final"
  },
  "orig_nbformat": 2,
  "kernelspec": {
   "name": "python3",
   "display_name": "Python 3",
   "language": "python"
  }
 },
 "nbformat": 4,
 "nbformat_minor": 2,
 "cells": [
  {
   "cell_type": "code",
   "execution_count": 185,
   "metadata": {},
   "outputs": [],
   "source": [
    "import pathlib\n",
    "import pickle\n",
    "\n",
    "import numpy as np\n",
    "import pandas as pd\n",
    "from sklearn import preprocessing\n",
    "from sklearn import pipeline\n",
    "from sklearn import linear_model\n",
    "from scipy import sparse, stats"
   ]
  },
  {
   "cell_type": "code",
   "execution_count": 186,
   "metadata": {},
   "outputs": [
    {
     "output_type": "stream",
     "name": "stdout",
     "text": [
      "The autoreload extension is already loaded. To reload it, use:\n  %reload_ext autoreload\n"
     ]
    }
   ],
   "source": [
    "%load_ext autoreload\n",
    "\n",
    "%autoreload 2"
   ]
  },
  {
   "cell_type": "code",
   "execution_count": 187,
   "metadata": {},
   "outputs": [],
   "source": [
    "from rating_model import TeamResults"
   ]
  },
  {
   "cell_type": "code",
   "execution_count": 188,
   "metadata": {},
   "outputs": [],
   "source": [
    "tours_datapath = pathlib.Path(\"data\", \"pickle_data\", \"tournaments-dt.pickle\")"
   ]
  },
  {
   "cell_type": "code",
   "execution_count": 189,
   "metadata": {},
   "outputs": [],
   "source": [
    "tours = pd.read_pickle(str(tours_datapath))"
   ]
  },
  {
   "cell_type": "code",
   "execution_count": 190,
   "metadata": {},
   "outputs": [],
   "source": [
    "players_datapath = pathlib.Path(\"data\", \"pickle_data\", \"players-dt.pickle\")"
   ]
  },
  {
   "cell_type": "code",
   "execution_count": 191,
   "metadata": {},
   "outputs": [],
   "source": [
    "players_info = pd.read_pickle(players_datapath)"
   ]
  },
  {
   "cell_type": "code",
   "execution_count": 192,
   "metadata": {},
   "outputs": [],
   "source": [
    "team_res_datapath = pathlib.Path(\"data\", \"team_res\", \"train_team_results.pickle\")"
   ]
  },
  {
   "cell_type": "code",
   "execution_count": 193,
   "metadata": {},
   "outputs": [],
   "source": [
    "with open(team_res_datapath, \"rb\") as dump_file:\n",
    "    team_res = pickle.load(dump_file)"
   ]
  },
  {
   "source": [],
   "cell_type": "markdown",
   "metadata": {}
  },
  {
   "cell_type": "code",
   "execution_count": 194,
   "metadata": {},
   "outputs": [],
   "source": [
    "total_unknown_team_players = 0\n",
    "total_unknown_answers = 0\n",
    "for tour_id in team_res.tours:\n",
    "    for team_id in team_res[tour_id]:\n",
    "        team = team_res[tour_id][team_id]\n",
    "        if not team.members:\n",
    "            total_unknown_team_players += 1\n",
    "        if not team.mask:\n",
    "            total_unknown_answers += 1"
   ]
  },
  {
   "cell_type": "code",
   "execution_count": 195,
   "metadata": {},
   "outputs": [
    {
     "output_type": "stream",
     "name": "stdout",
     "text": [
      "Количество команд без состава команды: \n109\nКоличество команд с неизвестными повопроснами результатами: \n173\n"
     ]
    }
   ],
   "source": [
    "print(\"Количество команд без состава команды: \", total_unknown_team_players, \"Количество команд с неизвестными повопроснами результатами: \", total_unknown_answers, sep=\"\\n\")"
   ]
  },
  {
   "cell_type": "code",
   "execution_count": 196,
   "metadata": {},
   "outputs": [
    {
     "output_type": "stream",
     "name": "stdout",
     "text": [
      "<class 'pandas.core.frame.DataFrame'>\nInt64Index: 1105 entries, 4628 to 6485\nData columns (total 8 columns):\n #   Column        Non-Null Count  Dtype              \n---  ------        --------------  -----              \n 0   name          1105 non-null   object             \n 1   dateStart     1105 non-null   datetime64[ns, UTC]\n 2   dateEnd       1105 non-null   datetime64[ns, UTC]\n 3   type          1105 non-null   object             \n 4   season        1015 non-null   object             \n 5   orgcommittee  1105 non-null   object             \n 6   synchData     669 non-null    object             \n 7   questionQty   1105 non-null   object             \ndtypes: datetime64[ns, UTC](2), object(6)\nmemory usage: 77.7+ KB\n"
     ]
    }
   ],
   "source": [
    "tours.info()"
   ]
  },
  {
   "cell_type": "code",
   "execution_count": 197,
   "metadata": {
    "tags": []
   },
   "outputs": [
    {
     "output_type": "stream",
     "name": "stderr",
     "text": [
      "Convert to dataframe: 100%|██████████| 682/682 [01:52<00:00,  6.08it/s]\n"
     ]
    }
   ],
   "source": [
    "players = team_res.to_player_dataframe(filter_by_mask=True)"
   ]
  },
  {
   "cell_type": "code",
   "execution_count": 198,
   "metadata": {},
   "outputs": [
    {
     "output_type": "stream",
     "name": "stdout",
     "text": [
      "<class 'pandas.core.frame.DataFrame'>\nInt64Index: 17949880 entries, 0 to 419579\nData columns (total 5 columns):\n #   Column           Dtype\n---  ------           -----\n 0   tour_id          int64\n 1   team_id          int64\n 2   player_id        int64\n 3   answer_id        int64\n 4   is_right_answer  bool \ndtypes: bool(1), int64(4)\nmemory usage: 701.9 MB\n"
     ]
    }
   ],
   "source": [
    "players.info()"
   ]
  },
  {
   "cell_type": "code",
   "execution_count": 199,
   "metadata": {},
   "outputs": [
    {
     "output_type": "execute_result",
     "data": {
      "text/plain": [
       "   tour_id  team_id  player_id  answer_id  is_right_answer\n",
       "0     4772    45556       6212          0             True\n",
       "1     4772    45556       6212          1             True\n",
       "2     4772    45556       6212          2             True\n",
       "3     4772    45556       6212          3             True\n",
       "4     4772    45556       6212          4             True"
      ],
      "text/html": "<div>\n<style scoped>\n    .dataframe tbody tr th:only-of-type {\n        vertical-align: middle;\n    }\n\n    .dataframe tbody tr th {\n        vertical-align: top;\n    }\n\n    .dataframe thead th {\n        text-align: right;\n    }\n</style>\n<table border=\"1\" class=\"dataframe\">\n  <thead>\n    <tr style=\"text-align: right;\">\n      <th></th>\n      <th>tour_id</th>\n      <th>team_id</th>\n      <th>player_id</th>\n      <th>answer_id</th>\n      <th>is_right_answer</th>\n    </tr>\n  </thead>\n  <tbody>\n    <tr>\n      <th>0</th>\n      <td>4772</td>\n      <td>45556</td>\n      <td>6212</td>\n      <td>0</td>\n      <td>True</td>\n    </tr>\n    <tr>\n      <th>1</th>\n      <td>4772</td>\n      <td>45556</td>\n      <td>6212</td>\n      <td>1</td>\n      <td>True</td>\n    </tr>\n    <tr>\n      <th>2</th>\n      <td>4772</td>\n      <td>45556</td>\n      <td>6212</td>\n      <td>2</td>\n      <td>True</td>\n    </tr>\n    <tr>\n      <th>3</th>\n      <td>4772</td>\n      <td>45556</td>\n      <td>6212</td>\n      <td>3</td>\n      <td>True</td>\n    </tr>\n    <tr>\n      <th>4</th>\n      <td>4772</td>\n      <td>45556</td>\n      <td>6212</td>\n      <td>4</td>\n      <td>True</td>\n    </tr>\n  </tbody>\n</table>\n</div>"
     },
     "metadata": {},
     "execution_count": 199
    }
   ],
   "source": [
    "players.head()"
   ]
  },
  {
   "source": [
    "## Построение логистической регрессии для ранжирования игроков"
   ],
   "cell_type": "markdown",
   "metadata": {}
  },
  {
   "cell_type": "code",
   "execution_count": 200,
   "metadata": {},
   "outputs": [
    {
     "output_type": "execute_result",
     "data": {
      "text/plain": [
       "False    0.568645\n",
       "True     0.431355\n",
       "Name: is_right_answer, dtype: float64"
      ]
     },
     "metadata": {},
     "execution_count": 200
    }
   ],
   "source": [
    "players[\"is_right_answer\"].value_counts(normalize=True)"
   ]
  },
  {
   "cell_type": "code",
   "execution_count": 201,
   "metadata": {},
   "outputs": [],
   "source": [
    "feature_dtype = np.float32"
   ]
  },
  {
   "cell_type": "code",
   "execution_count": 202,
   "metadata": {
    "tags": []
   },
   "outputs": [],
   "source": [
    "skils_encoder = preprocessing.OneHotEncoder(dtype=feature_dtype)"
   ]
  },
  {
   "cell_type": "code",
   "execution_count": 203,
   "metadata": {},
   "outputs": [],
   "source": [
    "skils_features = skils_encoder.fit_transform(players[\"player_id\"].to_numpy().reshape(-1, 1))"
   ]
  },
  {
   "cell_type": "code",
   "execution_count": 204,
   "metadata": {},
   "outputs": [],
   "source": [
    "questione_complex_encoder = preprocessing.OneHotEncoder(dtype=feature_dtype)"
   ]
  },
  {
   "cell_type": "code",
   "execution_count": 205,
   "metadata": {},
   "outputs": [],
   "source": [
    "questions_complex = questione_complex_encoder.fit_transform(players[\"answer_id\"].to_numpy().reshape(-1, 1))"
   ]
  },
  {
   "cell_type": "code",
   "execution_count": 206,
   "metadata": {},
   "outputs": [],
   "source": [
    "features = sparse.hstack((skils_features, questions_complex))\n",
    "del skils_features\n",
    "del questions_complex"
   ]
  },
  {
   "cell_type": "code",
   "execution_count": 207,
   "metadata": {},
   "outputs": [
    {
     "output_type": "execute_result",
     "data": {
      "text/plain": [
       "<17949880x91104 sparse matrix of type '<class 'numpy.float32'>'\n",
       "\twith 35899760 stored elements in COOrdinate format>"
      ]
     },
     "metadata": {},
     "execution_count": 207
    }
   ],
   "source": [
    "features"
   ]
  },
  {
   "cell_type": "code",
   "execution_count": 208,
   "metadata": {},
   "outputs": [],
   "source": [
    "regression = linear_model.LogisticRegression(penalty=\"none\", verbose=3, n_jobs=-1)"
   ]
  },
  {
   "cell_type": "code",
   "execution_count": 209,
   "metadata": {},
   "outputs": [],
   "source": [
    "target = players[\"is_right_answer\"].astype(np.int32).to_numpy()"
   ]
  },
  {
   "cell_type": "code",
   "execution_count": 210,
   "metadata": {},
   "outputs": [
    {
     "output_type": "stream",
     "name": "stderr",
     "text": [
      "[Parallel(n_jobs=-1)]: Using backend LokyBackend with 8 concurrent workers.\n",
      "[Parallel(n_jobs=-1)]: Done   1 out of   1 | elapsed:  2.3min finished\n"
     ]
    },
    {
     "output_type": "execute_result",
     "data": {
      "text/plain": [
       "LogisticRegression(n_jobs=-1, penalty='none', verbose=3)"
      ]
     },
     "metadata": {},
     "execution_count": 210
    }
   ],
   "source": [
    "regression.fit(features, target)"
   ]
  },
  {
   "cell_type": "code",
   "execution_count": 212,
   "metadata": {},
   "outputs": [],
   "source": [
    "def get_rating(skill_encoder, coefs) -> pd.DataFrame:\n",
    "    rows = []\n",
    "    all_players_ids = skill_encoder.categories_[0]\n",
    "    for player_id in all_players_ids:\n",
    "        rows.append({\"player_id\": player_id, \"skill\": coefs[np.where(all_players_ids == player_id)[0][0]]})\n",
    "    return pd.DataFrame.from_records(rows, index=\"player_id\",)"
   ]
  },
  {
   "cell_type": "code",
   "execution_count": 213,
   "metadata": {
    "tags": []
   },
   "outputs": [],
   "source": [
    "player_ratings = get_rating(skils_encoder, regression.coef_[0])"
   ]
  },
  {
   "cell_type": "code",
   "execution_count": 214,
   "metadata": {},
   "outputs": [],
   "source": [
    "player_ratings.sort_values(\"skill\", inplace=True)"
   ]
  },
  {
   "cell_type": "code",
   "execution_count": 215,
   "metadata": {},
   "outputs": [
    {
     "output_type": "execute_result",
     "data": {
      "text/plain": [
       "              skill\n",
       "player_id          \n",
       "27403      3.961836\n",
       "4270       3.943308\n",
       "27822      3.545685\n",
       "28751      3.518501\n",
       "37047      3.420863\n",
       "22799      3.351339\n",
       "34328      3.348794\n",
       "56647      3.333272\n",
       "30270      3.295080\n",
       "3843       3.279501"
      ],
      "text/html": "<div>\n<style scoped>\n    .dataframe tbody tr th:only-of-type {\n        vertical-align: middle;\n    }\n\n    .dataframe tbody tr th {\n        vertical-align: top;\n    }\n\n    .dataframe thead th {\n        text-align: right;\n    }\n</style>\n<table border=\"1\" class=\"dataframe\">\n  <thead>\n    <tr style=\"text-align: right;\">\n      <th></th>\n      <th>skill</th>\n    </tr>\n    <tr>\n      <th>player_id</th>\n      <th></th>\n    </tr>\n  </thead>\n  <tbody>\n    <tr>\n      <th>27403</th>\n      <td>3.961836</td>\n    </tr>\n    <tr>\n      <th>4270</th>\n      <td>3.943308</td>\n    </tr>\n    <tr>\n      <th>27822</th>\n      <td>3.545685</td>\n    </tr>\n    <tr>\n      <th>28751</th>\n      <td>3.518501</td>\n    </tr>\n    <tr>\n      <th>37047</th>\n      <td>3.420863</td>\n    </tr>\n    <tr>\n      <th>22799</th>\n      <td>3.351339</td>\n    </tr>\n    <tr>\n      <th>34328</th>\n      <td>3.348794</td>\n    </tr>\n    <tr>\n      <th>56647</th>\n      <td>3.333272</td>\n    </tr>\n    <tr>\n      <th>30270</th>\n      <td>3.295080</td>\n    </tr>\n    <tr>\n      <th>3843</th>\n      <td>3.279501</td>\n    </tr>\n  </tbody>\n</table>\n</div>"
     },
     "metadata": {},
     "execution_count": 215
    }
   ],
   "source": [
    "player_ratings.nlargest(10, \"skill\")"
   ]
  },
  {
   "source": [
    "## Оценка результатов"
   ],
   "cell_type": "markdown",
   "metadata": {}
  },
  {
   "source": [
    "Для сравнение команд воспользуемся простым правилом. Для каждой команды в турнире возьмём игроков в отсортированном по убыванию силе игроков и отсортируем команды в лексикографическом порядке."
   ],
   "cell_type": "markdown",
   "metadata": {}
  },
  {
   "cell_type": "code",
   "execution_count": 292,
   "metadata": {},
   "outputs": [],
   "source": [
    "test_team_res_datapath = pathlib.Path(\"data\", \"team_res\", \"test_team_results.pickle\")"
   ]
  },
  {
   "cell_type": "code",
   "execution_count": 293,
   "metadata": {},
   "outputs": [],
   "source": [
    "with open(test_team_res_datapath, \"rb\") as dump_file:\n",
    "    team_res_test = pickle.load(dump_file)"
   ]
  },
  {
   "cell_type": "code",
   "execution_count": 294,
   "metadata": {},
   "outputs": [],
   "source": [
    "test_team_ratings = team_res_test.to_team_rating_by_tour()"
   ]
  },
  {
   "cell_type": "code",
   "execution_count": 295,
   "metadata": {},
   "outputs": [],
   "source": [
    "test_team_ratings.dropna(axis=\"index\", inplace=True)"
   ]
  },
  {
   "cell_type": "code",
   "execution_count": 296,
   "metadata": {},
   "outputs": [
    {
     "output_type": "stream",
     "name": "stdout",
     "text": [
      "<class 'pandas.core.frame.DataFrame'>\nInt64Index: 21914 entries, 0 to 22430\nData columns (total 4 columns):\n #   Column       Non-Null Count  Dtype  \n---  ------       --------------  -----  \n 0   tour_id      21914 non-null  int64  \n 1   members      21914 non-null  object \n 2   team_id      21914 non-null  int64  \n 3   tour_rating  21914 non-null  float64\ndtypes: float64(1), int64(2), object(1)\nmemory usage: 856.0+ KB\n"
     ]
    }
   ],
   "source": [
    "test_team_ratings.info()"
   ]
  },
  {
   "cell_type": "code",
   "execution_count": 297,
   "metadata": {},
   "outputs": [],
   "source": [
    "test_team_ratings.sort_values([\"tour_id\", \"tour_rating\"], inplace=True)"
   ]
  },
  {
   "cell_type": "code",
   "execution_count": 298,
   "metadata": {},
   "outputs": [
    {
     "output_type": "execute_result",
     "data": {
      "text/plain": [
       "   tour_id                                       members  team_id  tour_rating\n",
       "0     4957     (30152, 30270, 27822, 28751, 27403, 4270)    49804          1.0\n",
       "1     4957  (34936, 40877, 25177, 113703, 33792, 107161)     4109          2.0\n",
       "2     4957    (33620, 21346, 13857, 46339, 37836, 19632)     3875          3.0\n",
       "3     4957     (32901, 28689, 19541, 13689, 9801, 18194)    77418          4.0\n",
       "4     4957     (6482, 34846, 36120, 32458, 25882, 30475)        2          5.5"
      ],
      "text/html": "<div>\n<style scoped>\n    .dataframe tbody tr th:only-of-type {\n        vertical-align: middle;\n    }\n\n    .dataframe tbody tr th {\n        vertical-align: top;\n    }\n\n    .dataframe thead th {\n        text-align: right;\n    }\n</style>\n<table border=\"1\" class=\"dataframe\">\n  <thead>\n    <tr style=\"text-align: right;\">\n      <th></th>\n      <th>tour_id</th>\n      <th>members</th>\n      <th>team_id</th>\n      <th>tour_rating</th>\n    </tr>\n  </thead>\n  <tbody>\n    <tr>\n      <th>0</th>\n      <td>4957</td>\n      <td>(30152, 30270, 27822, 28751, 27403, 4270)</td>\n      <td>49804</td>\n      <td>1.0</td>\n    </tr>\n    <tr>\n      <th>1</th>\n      <td>4957</td>\n      <td>(34936, 40877, 25177, 113703, 33792, 107161)</td>\n      <td>4109</td>\n      <td>2.0</td>\n    </tr>\n    <tr>\n      <th>2</th>\n      <td>4957</td>\n      <td>(33620, 21346, 13857, 46339, 37836, 19632)</td>\n      <td>3875</td>\n      <td>3.0</td>\n    </tr>\n    <tr>\n      <th>3</th>\n      <td>4957</td>\n      <td>(32901, 28689, 19541, 13689, 9801, 18194)</td>\n      <td>77418</td>\n      <td>4.0</td>\n    </tr>\n    <tr>\n      <th>4</th>\n      <td>4957</td>\n      <td>(6482, 34846, 36120, 32458, 25882, 30475)</td>\n      <td>2</td>\n      <td>5.5</td>\n    </tr>\n  </tbody>\n</table>\n</div>"
     },
     "metadata": {},
     "execution_count": 298
    }
   ],
   "source": [
    "test_team_ratings.head()"
   ]
  },
  {
   "cell_type": "code",
   "execution_count": 299,
   "metadata": {},
   "outputs": [],
   "source": [
    "def player2ratings(players_id, player_ratings):\n",
    "    ratings = []\n",
    "    for player_id in players_id:\n",
    "        try:\n",
    "            ratings.append(player_ratings.loc[player_id, \"skill\"])\n",
    "        except KeyError:\n",
    "            pass\n",
    "    ratings.sort(reverse=True)\n",
    "    return tuple(ratings)"
   ]
  },
  {
   "cell_type": "code",
   "execution_count": 303,
   "metadata": {},
   "outputs": [],
   "source": [
    "def rank_teams(teams, player_skills):\n",
    "    ranking_teams = teams.copy()\n",
    "    ranking_teams[\"player_skils\"] = ranking_teams[\"members\"].apply(lambda x: player2ratings(x, player_skills))\n",
    "    ranking_teams.sort_values(\"player_skils\", ascending=False, inplace=True)\n",
    "    ranking_teams.drop(\"player_skils\", axis=\"columns\", inplace=True)\n",
    "    return ranking_teams"
   ]
  },
  {
   "cell_type": "code",
   "execution_count": 304,
   "metadata": {},
   "outputs": [],
   "source": [
    "def rank_commad(team_res, player_ratings):\n",
    "    kendall_values = []\n",
    "    for tour_id, teams in team_res.groupby(\"tour_id\"):\n",
    "        new_teams = teams[[\"members\", \"tour_rating\"]].copy()\n",
    "        new_teams.reset_index(inplace=True)\n",
    "        original_order = new_teams.index.to_numpy()\n",
    "        new_teams = rank_teams(new_teams, player_ratings)\n",
    "        rank_order = new_teams.index.to_numpy()\n",
    "        kendall_values.append(stats.kendalltau(original_order, rank_order)[0])\n",
    "    return np.nanmean(kendall_values)"
   ]
  },
  {
   "cell_type": "code",
   "execution_count": 305,
   "metadata": {},
   "outputs": [
    {
     "output_type": "execute_result",
     "data": {
      "text/plain": [
       "0.5652927245499592"
      ]
     },
     "metadata": {},
     "execution_count": 305
    }
   ],
   "source": [
    "rank_commad(test_team_ratings, player_ratings)"
   ]
  },
  {
   "cell_type": "code",
   "execution_count": null,
   "metadata": {},
   "outputs": [],
   "source": []
  }
 ]
}