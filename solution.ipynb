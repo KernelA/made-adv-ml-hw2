{
 "cells": [
  {
   "cell_type": "code",
   "execution_count": 1,
   "metadata": {},
   "outputs": [
    {
     "name": "stderr",
     "output_type": "stream",
     "text": [
      "C:\\Users\\alex9\\AppData\\Roaming\\Python\\Python38\\site-packages\\ipykernel\\parentpoller.py:110: UserWarning: Parent poll failed.  If the frontend dies,\n",
      "                the kernel may be left running.  Please let us know\n",
      "                about your system (bitness, Python, etc.) at\n",
      "                ipython-dev@scipy.org\n",
      "  warnings.warn(\"\"\"Parent poll failed.  If the frontend dies,\n"
     ]
    }
   ],
   "source": [
    "import pathlib\n",
    "import pickle\n",
    "\n",
    "import numpy as np\n",
    "import pandas as pd\n",
    "from sklearn import preprocessing\n",
    "from sklearn import pipeline\n",
    "from sklearn import linear_model\n",
    "from scipy import sparse, stats\n",
    "from tqdm import tqdm\n",
    "import torch\n",
    "import shutil"
   ]
  },
  {
   "cell_type": "code",
   "execution_count": 2,
   "metadata": {},
   "outputs": [],
   "source": [
    "%load_ext autoreload\n",
    "\n",
    "%autoreload 2"
   ]
  },
  {
   "cell_type": "code",
   "execution_count": 3,
   "metadata": {},
   "outputs": [],
   "source": [
    "from rating_model import TeamResults\n",
    "from rating_model import PICKLE_PROTOCOL\n",
    "from rating_model import EMRatingModel, get_player_skills, estimate_rank\n",
    "from utils import load_pickle, dump_pickle, optimize_dataframe_numeric_dtypes"
   ]
  },
  {
   "cell_type": "code",
   "execution_count": 4,
   "metadata": {},
   "outputs": [],
   "source": [
    "tours_datapath = pathlib.Path(\"data\", \"pickle_data\", \"tournaments-dt.pickle\")"
   ]
  },
  {
   "cell_type": "code",
   "execution_count": 5,
   "metadata": {},
   "outputs": [],
   "source": [
    "tours = pd.read_pickle(str(tours_datapath))"
   ]
  },
  {
   "cell_type": "code",
   "execution_count": 6,
   "metadata": {},
   "outputs": [],
   "source": [
    "players_datapath = pathlib.Path(\"data\", \"pickle_data\", \"players-dt.pickle\")"
   ]
  },
  {
   "cell_type": "code",
   "execution_count": 7,
   "metadata": {},
   "outputs": [],
   "source": [
    "players_info = pd.read_pickle(players_datapath)"
   ]
  },
  {
   "cell_type": "code",
   "execution_count": 8,
   "metadata": {},
   "outputs": [],
   "source": [
    "team_res_datapath = pathlib.Path(\n",
    "    \"data\", \"team_res\", \"train_team_results.pickle\")"
   ]
  },
  {
   "cell_type": "code",
   "execution_count": 9,
   "metadata": {},
   "outputs": [],
   "source": [
    "team_res = load_pickle(team_res_datapath)"
   ]
  },
  {
   "cell_type": "code",
   "execution_count": 10,
   "metadata": {},
   "outputs": [],
   "source": [
    "total_unknown_team_players = 0\n",
    "total_unknown_answers = 0\n",
    "for tour_id in team_res.tours:\n",
    "    for team_id in team_res[tour_id]:\n",
    "        team = team_res[tour_id][team_id]\n",
    "        if not team.members:\n",
    "            total_unknown_team_players += 1\n",
    "        if not team.mask:\n",
    "            total_unknown_answers += 1"
   ]
  },
  {
   "cell_type": "code",
   "execution_count": 11,
   "metadata": {},
   "outputs": [
    {
     "name": "stdout",
     "output_type": "stream",
     "text": [
      "Количество команд без состава команды: \n",
      "69\n",
      "Количество команд с неизвестными повопроснами результатами: \n",
      "173\n"
     ]
    }
   ],
   "source": [
    "print(\"Количество команд без состава команды: \", total_unknown_team_players,\n",
    "      \"Количество команд с неизвестными повопроснами результатами: \", total_unknown_answers, sep=\"\\n\")"
   ]
  },
  {
   "cell_type": "code",
   "execution_count": 12,
   "metadata": {},
   "outputs": [
    {
     "name": "stdout",
     "output_type": "stream",
     "text": [
      "<class 'pandas.core.frame.DataFrame'>\n",
      "Int64Index: 1105 entries, 4628 to 6485\n",
      "Data columns (total 8 columns):\n",
      " #   Column        Non-Null Count  Dtype              \n",
      "---  ------        --------------  -----              \n",
      " 0   name          1105 non-null   object             \n",
      " 1   dateStart     1105 non-null   datetime64[ns, UTC]\n",
      " 2   dateEnd       1105 non-null   datetime64[ns, UTC]\n",
      " 3   type          1105 non-null   object             \n",
      " 4   season        1015 non-null   object             \n",
      " 5   orgcommittee  1105 non-null   object             \n",
      " 6   synchData     669 non-null    object             \n",
      " 7   questionQty   1105 non-null   object             \n",
      "dtypes: datetime64[ns, UTC](2), object(6)\n",
      "memory usage: 77.7+ KB\n"
     ]
    }
   ],
   "source": [
    "tours.info()"
   ]
  },
  {
   "cell_type": "code",
   "execution_count": 13,
   "metadata": {},
   "outputs": [],
   "source": [
    "players_dump = pathlib.Path(\"dump\", \"players.pickle\")\n",
    "players_dump.parent.mkdir(exist_ok=True, parents=True)"
   ]
  },
  {
   "cell_type": "code",
   "execution_count": 14,
   "metadata": {},
   "outputs": [],
   "source": [
    "force_get_players = False"
   ]
  },
  {
   "cell_type": "code",
   "execution_count": 15,
   "metadata": {},
   "outputs": [],
   "source": [
    "players = None"
   ]
  },
  {
   "cell_type": "code",
   "execution_count": 16,
   "metadata": {},
   "outputs": [],
   "source": [
    "if not players_dump.exists() or force_get_players:\n",
    "    players = team_res.to_player_dataframe(filter_by_mask=True)\n",
    "    optimize_dataframe_numeric_dtypes(players)\n",
    "    dump_pickle(players_dump, players)\n",
    "else:\n",
    "    players = load_pickle(players_dump)"
   ]
  },
  {
   "cell_type": "code",
   "execution_count": 17,
   "metadata": {},
   "outputs": [],
   "source": [
    "assert players.index.is_monotonic_increasing"
   ]
  },
  {
   "cell_type": "code",
   "execution_count": 18,
   "metadata": {},
   "outputs": [
    {
     "name": "stdout",
     "output_type": "stream",
     "text": [
      "<class 'pandas.core.frame.DataFrame'>\n",
      "RangeIndex: 17823516 entries, 0 to 17823515\n",
      "Data columns (total 5 columns):\n",
      " #   Column           Dtype\n",
      "---  ------           -----\n",
      " 0   tour_id          int16\n",
      " 1   team_id          int32\n",
      " 2   player_id        int32\n",
      " 3   answer_id        int32\n",
      " 4   is_right_answer  bool \n",
      "dtypes: bool(1), int16(1), int32(3)\n",
      "memory usage: 255.0 MB\n"
     ]
    }
   ],
   "source": [
    "players.info()"
   ]
  },
  {
   "cell_type": "code",
   "execution_count": 19,
   "metadata": {},
   "outputs": [
    {
     "data": {
      "text/html": [
       "<div>\n",
       "<style scoped>\n",
       "    .dataframe tbody tr th:only-of-type {\n",
       "        vertical-align: middle;\n",
       "    }\n",
       "\n",
       "    .dataframe tbody tr th {\n",
       "        vertical-align: top;\n",
       "    }\n",
       "\n",
       "    .dataframe thead th {\n",
       "        text-align: right;\n",
       "    }\n",
       "</style>\n",
       "<table border=\"1\" class=\"dataframe\">\n",
       "  <thead>\n",
       "    <tr style=\"text-align: right;\">\n",
       "      <th></th>\n",
       "      <th>tour_id</th>\n",
       "      <th>team_id</th>\n",
       "      <th>player_id</th>\n",
       "      <th>answer_id</th>\n",
       "      <th>is_right_answer</th>\n",
       "    </tr>\n",
       "  </thead>\n",
       "  <tbody>\n",
       "    <tr>\n",
       "      <th>0</th>\n",
       "      <td>4772</td>\n",
       "      <td>45556</td>\n",
       "      <td>6212</td>\n",
       "      <td>0</td>\n",
       "      <td>True</td>\n",
       "    </tr>\n",
       "    <tr>\n",
       "      <th>1</th>\n",
       "      <td>4772</td>\n",
       "      <td>45556</td>\n",
       "      <td>6212</td>\n",
       "      <td>1</td>\n",
       "      <td>True</td>\n",
       "    </tr>\n",
       "    <tr>\n",
       "      <th>2</th>\n",
       "      <td>4772</td>\n",
       "      <td>45556</td>\n",
       "      <td>6212</td>\n",
       "      <td>2</td>\n",
       "      <td>True</td>\n",
       "    </tr>\n",
       "    <tr>\n",
       "      <th>3</th>\n",
       "      <td>4772</td>\n",
       "      <td>45556</td>\n",
       "      <td>6212</td>\n",
       "      <td>3</td>\n",
       "      <td>True</td>\n",
       "    </tr>\n",
       "    <tr>\n",
       "      <th>4</th>\n",
       "      <td>4772</td>\n",
       "      <td>45556</td>\n",
       "      <td>6212</td>\n",
       "      <td>4</td>\n",
       "      <td>True</td>\n",
       "    </tr>\n",
       "  </tbody>\n",
       "</table>\n",
       "</div>"
      ],
      "text/plain": [
       "   tour_id  team_id  player_id  answer_id  is_right_answer\n",
       "0     4772    45556       6212          0             True\n",
       "1     4772    45556       6212          1             True\n",
       "2     4772    45556       6212          2             True\n",
       "3     4772    45556       6212          3             True\n",
       "4     4772    45556       6212          4             True"
      ]
     },
     "execution_count": 19,
     "metadata": {},
     "output_type": "execute_result"
    }
   ],
   "source": [
    "players.head()"
   ]
  },
  {
   "cell_type": "code",
   "execution_count": 20,
   "metadata": {},
   "outputs": [],
   "source": [
    "target = players[\"is_right_answer\"].astype(np.int8).to_numpy()"
   ]
  },
  {
   "cell_type": "markdown",
   "metadata": {},
   "source": [
    "## Построение логистической регрессии для ранжирования игроков"
   ]
  },
  {
   "cell_type": "code",
   "execution_count": 21,
   "metadata": {},
   "outputs": [
    {
     "data": {
      "text/plain": [
       "False    0.562729\n",
       "True     0.437271\n",
       "Name: is_right_answer, dtype: float64"
      ]
     },
     "execution_count": 21,
     "metadata": {},
     "output_type": "execute_result"
    }
   ],
   "source": [
    "players[\"is_right_answer\"].value_counts(normalize=True)"
   ]
  },
  {
   "cell_type": "code",
   "execution_count": 22,
   "metadata": {},
   "outputs": [],
   "source": [
    "feature_dtype = np.float64"
   ]
  },
  {
   "cell_type": "code",
   "execution_count": 23,
   "metadata": {
    "tags": []
   },
   "outputs": [],
   "source": [
    "skils_encoder = preprocessing.OneHotEncoder(dtype=feature_dtype)"
   ]
  },
  {
   "cell_type": "code",
   "execution_count": 24,
   "metadata": {},
   "outputs": [],
   "source": [
    "skils_features_one_hot = skils_encoder.fit_transform(\n",
    "    players[\"player_id\"].to_numpy().reshape(-1, 1))"
   ]
  },
  {
   "cell_type": "code",
   "execution_count": 25,
   "metadata": {},
   "outputs": [],
   "source": [
    "questione_complex_encoder = preprocessing.OneHotEncoder(dtype=feature_dtype)"
   ]
  },
  {
   "cell_type": "code",
   "execution_count": 26,
   "metadata": {},
   "outputs": [],
   "source": [
    "question_complices_one_hot = questione_complex_encoder.fit_transform(\n",
    "    players[\"answer_id\"].to_numpy().reshape(-1, 1))"
   ]
  },
  {
   "cell_type": "code",
   "execution_count": 27,
   "metadata": {},
   "outputs": [],
   "source": [
    "features = sparse.hstack((skils_features_one_hot, question_complices_one_hot), format=\"csr\")\n",
    "del skils_features_one_hot\n",
    "del question_complices_one_hot"
   ]
  },
  {
   "cell_type": "code",
   "execution_count": 28,
   "metadata": {},
   "outputs": [],
   "source": [
    "assert sparse.isspmatrix_csr(features)"
   ]
  },
  {
   "cell_type": "code",
   "execution_count": 29,
   "metadata": {},
   "outputs": [
    {
     "data": {
      "text/plain": [
       "<17823516x91209 sparse matrix of type '<class 'numpy.float64'>'\n",
       "\twith 35647032 stored elements in Compressed Sparse Row format>"
      ]
     },
     "execution_count": 29,
     "metadata": {},
     "output_type": "execute_result"
    }
   ],
   "source": [
    "features"
   ]
  },
  {
   "cell_type": "code",
   "execution_count": 30,
   "metadata": {},
   "outputs": [],
   "source": [
    "dump_model_filepath = pathlib.Path(\"model\", \"log-reg\")"
   ]
  },
  {
   "cell_type": "code",
   "execution_count": 31,
   "metadata": {},
   "outputs": [],
   "source": [
    "dump_model_filepath.mkdir(parents=True, exist_ok=True)"
   ]
  },
  {
   "cell_type": "code",
   "execution_count": 32,
   "metadata": {},
   "outputs": [],
   "source": [
    "force_train = False"
   ]
  },
  {
   "cell_type": "code",
   "execution_count": 33,
   "metadata": {},
   "outputs": [],
   "source": [
    "model_dump = dump_model_filepath / \"log-reg.pickle\""
   ]
  },
  {
   "cell_type": "code",
   "execution_count": 34,
   "metadata": {},
   "outputs": [],
   "source": [
    "regression = None"
   ]
  },
  {
   "cell_type": "code",
   "execution_count": 35,
   "metadata": {},
   "outputs": [],
   "source": [
    "if not force_train and model_dump.exists():\n",
    "    regression = load_pickle(model_dump)"
   ]
  },
  {
   "cell_type": "code",
   "execution_count": 36,
   "metadata": {},
   "outputs": [],
   "source": [
    "if regression is None:\n",
    "    regression = linear_model.LogisticRegression(\n",
    "        penalty=\"l1\", C=100, solver=\"liblinear\", verbose=2, max_iter=10, fit_intercept=True)\n",
    "    regression.fit(features, target)\n",
    "    dump_pickle(model_dump, regression)"
   ]
  },
  {
   "cell_type": "code",
   "execution_count": 37,
   "metadata": {
    "tags": []
   },
   "outputs": [],
   "source": [
    "player_ratings = get_player_skills(skils_encoder, regression.coef_[0])\n",
    "player_ratings.sort_values(\"skill\", inplace=True, ascending=True)"
   ]
  },
  {
   "cell_type": "code",
   "execution_count": 38,
   "metadata": {},
   "outputs": [
    {
     "data": {
      "text/html": [
       "<div>\n",
       "<style scoped>\n",
       "    .dataframe tbody tr th:only-of-type {\n",
       "        vertical-align: middle;\n",
       "    }\n",
       "\n",
       "    .dataframe tbody tr th {\n",
       "        vertical-align: top;\n",
       "    }\n",
       "\n",
       "    .dataframe thead th {\n",
       "        text-align: right;\n",
       "    }\n",
       "</style>\n",
       "<table border=\"1\" class=\"dataframe\">\n",
       "  <thead>\n",
       "    <tr style=\"text-align: right;\">\n",
       "      <th></th>\n",
       "      <th>skill</th>\n",
       "    </tr>\n",
       "  </thead>\n",
       "  <tbody>\n",
       "    <tr>\n",
       "      <th>27403</th>\n",
       "      <td>3.102096</td>\n",
       "    </tr>\n",
       "    <tr>\n",
       "      <th>4270</th>\n",
       "      <td>2.965024</td>\n",
       "    </tr>\n",
       "    <tr>\n",
       "      <th>28751</th>\n",
       "      <td>2.912417</td>\n",
       "    </tr>\n",
       "    <tr>\n",
       "      <th>27822</th>\n",
       "      <td>2.824027</td>\n",
       "    </tr>\n",
       "    <tr>\n",
       "      <th>30270</th>\n",
       "      <td>2.752742</td>\n",
       "    </tr>\n",
       "    <tr>\n",
       "      <th>40411</th>\n",
       "      <td>2.749181</td>\n",
       "    </tr>\n",
       "    <tr>\n",
       "      <th>30152</th>\n",
       "      <td>2.739850</td>\n",
       "    </tr>\n",
       "    <tr>\n",
       "      <th>38175</th>\n",
       "      <td>2.679079</td>\n",
       "    </tr>\n",
       "    <tr>\n",
       "      <th>20691</th>\n",
       "      <td>2.642352</td>\n",
       "    </tr>\n",
       "    <tr>\n",
       "      <th>199963</th>\n",
       "      <td>2.597687</td>\n",
       "    </tr>\n",
       "  </tbody>\n",
       "</table>\n",
       "</div>"
      ],
      "text/plain": [
       "           skill\n",
       "27403   3.102096\n",
       "4270    2.965024\n",
       "28751   2.912417\n",
       "27822   2.824027\n",
       "30270   2.752742\n",
       "40411   2.749181\n",
       "30152   2.739850\n",
       "38175   2.679079\n",
       "20691   2.642352\n",
       "199963  2.597687"
      ]
     },
     "execution_count": 38,
     "metadata": {},
     "output_type": "execute_result"
    }
   ],
   "source": [
    "player_ratings.nlargest(10, \"skill\")"
   ]
  },
  {
   "cell_type": "markdown",
   "metadata": {},
   "source": [
    "## Оценка результатов"
   ]
  },
  {
   "cell_type": "markdown",
   "metadata": {},
   "source": [
    "Для сравнение команд воспользуемся простым правилом. Для каждой команды в турнире возьмём игроков в отсортированном по убыванию силе игроков и отсортируем команды в лексикографическом порядке."
   ]
  },
  {
   "cell_type": "code",
   "execution_count": 39,
   "metadata": {},
   "outputs": [],
   "source": [
    "test_team_res_datapath = pathlib.Path(\n",
    "    \"data\", \"team_res\", \"test_team_results.pickle\")"
   ]
  },
  {
   "cell_type": "code",
   "execution_count": 40,
   "metadata": {},
   "outputs": [],
   "source": [
    "with open(test_team_res_datapath, \"rb\") as dump_file:\n",
    "    team_res_test = pickle.load(dump_file)"
   ]
  },
  {
   "cell_type": "code",
   "execution_count": 41,
   "metadata": {},
   "outputs": [],
   "source": [
    "test_team_ratings = team_res_test.to_team_rating_by_tour()"
   ]
  },
  {
   "cell_type": "code",
   "execution_count": 42,
   "metadata": {},
   "outputs": [],
   "source": [
    "test_team_ratings.dropna(axis=\"index\", inplace=True)"
   ]
  },
  {
   "cell_type": "code",
   "execution_count": 43,
   "metadata": {},
   "outputs": [
    {
     "name": "stdout",
     "output_type": "stream",
     "text": [
      "<class 'pandas.core.frame.DataFrame'>\n",
      "Int64Index: 21062 entries, 0 to 21578\n",
      "Data columns (total 4 columns):\n",
      " #   Column       Non-Null Count  Dtype  \n",
      "---  ------       --------------  -----  \n",
      " 0   tour_id      21062 non-null  int64  \n",
      " 1   members      21062 non-null  object \n",
      " 2   team_id      21062 non-null  int64  \n",
      " 3   tour_rating  21062 non-null  float64\n",
      "dtypes: float64(1), int64(2), object(1)\n",
      "memory usage: 822.7+ KB\n"
     ]
    }
   ],
   "source": [
    "test_team_ratings.info()"
   ]
  },
  {
   "cell_type": "code",
   "execution_count": 44,
   "metadata": {},
   "outputs": [],
   "source": [
    "test_team_ratings.sort_values([\"tour_id\", \"tour_rating\"], inplace=True)"
   ]
  },
  {
   "cell_type": "code",
   "execution_count": 45,
   "metadata": {},
   "outputs": [
    {
     "data": {
      "text/html": [
       "<div>\n",
       "<style scoped>\n",
       "    .dataframe tbody tr th:only-of-type {\n",
       "        vertical-align: middle;\n",
       "    }\n",
       "\n",
       "    .dataframe tbody tr th {\n",
       "        vertical-align: top;\n",
       "    }\n",
       "\n",
       "    .dataframe thead th {\n",
       "        text-align: right;\n",
       "    }\n",
       "</style>\n",
       "<table border=\"1\" class=\"dataframe\">\n",
       "  <thead>\n",
       "    <tr style=\"text-align: right;\">\n",
       "      <th></th>\n",
       "      <th>tour_id</th>\n",
       "      <th>members</th>\n",
       "      <th>team_id</th>\n",
       "      <th>tour_rating</th>\n",
       "    </tr>\n",
       "  </thead>\n",
       "  <tbody>\n",
       "    <tr>\n",
       "      <th>0</th>\n",
       "      <td>4957</td>\n",
       "      <td>(30152, 30270, 27822, 28751, 27403, 4270)</td>\n",
       "      <td>49804</td>\n",
       "      <td>1.0</td>\n",
       "    </tr>\n",
       "    <tr>\n",
       "      <th>1</th>\n",
       "      <td>4957</td>\n",
       "      <td>(34936, 40877, 25177, 113703, 33792, 107161)</td>\n",
       "      <td>4109</td>\n",
       "      <td>2.0</td>\n",
       "    </tr>\n",
       "    <tr>\n",
       "      <th>2</th>\n",
       "      <td>4957</td>\n",
       "      <td>(33620, 21346, 13857, 46339, 37836, 19632)</td>\n",
       "      <td>3875</td>\n",
       "      <td>3.0</td>\n",
       "    </tr>\n",
       "    <tr>\n",
       "      <th>3</th>\n",
       "      <td>4957</td>\n",
       "      <td>(32901, 28689, 19541, 13689, 9801, 18194)</td>\n",
       "      <td>77418</td>\n",
       "      <td>4.0</td>\n",
       "    </tr>\n",
       "    <tr>\n",
       "      <th>4</th>\n",
       "      <td>4957</td>\n",
       "      <td>(6482, 34846, 36120, 32458, 25882, 30475)</td>\n",
       "      <td>2</td>\n",
       "      <td>5.5</td>\n",
       "    </tr>\n",
       "    <tr>\n",
       "      <th>5</th>\n",
       "      <td>4957</td>\n",
       "      <td>(23178, 19915, 10695, 74382, 26911)</td>\n",
       "      <td>45367</td>\n",
       "      <td>5.5</td>\n",
       "    </tr>\n",
       "    <tr>\n",
       "      <th>6</th>\n",
       "      <td>4957</td>\n",
       "      <td>(16609, 35857, 57018, 34476, 48340, 66471)</td>\n",
       "      <td>4622</td>\n",
       "      <td>7.5</td>\n",
       "    </tr>\n",
       "    <tr>\n",
       "      <th>7</th>\n",
       "      <td>4957</td>\n",
       "      <td>(52183, 93424, 29425, 13345, 34417)</td>\n",
       "      <td>4174</td>\n",
       "      <td>7.5</td>\n",
       "    </tr>\n",
       "    <tr>\n",
       "      <th>8</th>\n",
       "      <td>4957</td>\n",
       "      <td>(21233, 183104, 34395, 9342, 143822, 24006, 10...</td>\n",
       "      <td>75600</td>\n",
       "      <td>9.0</td>\n",
       "    </tr>\n",
       "    <tr>\n",
       "      <th>9</th>\n",
       "      <td>4957</td>\n",
       "      <td>(27009, 54574, 88505, 30236, 105369, 116628)</td>\n",
       "      <td>59580</td>\n",
       "      <td>12.0</td>\n",
       "    </tr>\n",
       "  </tbody>\n",
       "</table>\n",
       "</div>"
      ],
      "text/plain": [
       "   tour_id                                            members  team_id  \\\n",
       "0     4957          (30152, 30270, 27822, 28751, 27403, 4270)    49804   \n",
       "1     4957       (34936, 40877, 25177, 113703, 33792, 107161)     4109   \n",
       "2     4957         (33620, 21346, 13857, 46339, 37836, 19632)     3875   \n",
       "3     4957          (32901, 28689, 19541, 13689, 9801, 18194)    77418   \n",
       "4     4957          (6482, 34846, 36120, 32458, 25882, 30475)        2   \n",
       "5     4957                (23178, 19915, 10695, 74382, 26911)    45367   \n",
       "6     4957         (16609, 35857, 57018, 34476, 48340, 66471)     4622   \n",
       "7     4957                (52183, 93424, 29425, 13345, 34417)     4174   \n",
       "8     4957  (21233, 183104, 34395, 9342, 143822, 24006, 10...    75600   \n",
       "9     4957       (27009, 54574, 88505, 30236, 105369, 116628)    59580   \n",
       "\n",
       "   tour_rating  \n",
       "0          1.0  \n",
       "1          2.0  \n",
       "2          3.0  \n",
       "3          4.0  \n",
       "4          5.5  \n",
       "5          5.5  \n",
       "6          7.5  \n",
       "7          7.5  \n",
       "8          9.0  \n",
       "9         12.0  "
      ]
     },
     "execution_count": 45,
     "metadata": {},
     "output_type": "execute_result"
    }
   ],
   "source": [
    "test_team_ratings.head(n=10)"
   ]
  },
  {
   "cell_type": "markdown",
   "metadata": {},
   "source": [
    "### Коэффициент ранговой корреляции Кендалла"
   ]
  },
  {
   "cell_type": "code",
   "execution_count": 46,
   "metadata": {},
   "outputs": [],
   "source": [
    "baseline = estimate_rank(test_team_ratings, player_ratings)"
   ]
  },
  {
   "cell_type": "code",
   "execution_count": 47,
   "metadata": {},
   "outputs": [
    {
     "data": {
      "text/plain": [
       "{'Kendall': 0.5806720044580711, 'Spearman': 0.7448398338463774}"
      ]
     },
     "execution_count": 47,
     "metadata": {},
     "output_type": "execute_result"
    }
   ],
   "source": [
    "baseline"
   ]
  },
  {
   "cell_type": "code",
   "execution_count": 48,
   "metadata": {},
   "outputs": [],
   "source": [
    "del player_ratings"
   ]
  },
  {
   "cell_type": "markdown",
   "metadata": {},
   "source": [
    "## EM алгоритм"
   ]
  },
  {
   "cell_type": "markdown",
   "metadata": {},
   "source": [
    "Рассмртрим ответы команды на вопросы. Если команда $t$ ответила на вопрос $q$, то это означает, что хотя бы один игрок ответил на вопрос. Если команда не ответила на вопрос, то это означает, что ни один игрок также не оветил на вопрос.\n",
    "\n",
    "Таким образом введём скрытые переменные: $h_{i,q}$- игорок под номером $i$ ответил на вопрос $q$. Они связаны с $x_{t,q}$ следующим соотношением:\n",
    "$$\n",
    "x_{t,q} = \n",
    "\\begin{cases}\n",
    "0, \\text{ то } h_{i,q} = 0 \\text{ для всех игроков в команде } t,\\\\\n",
    "1, h_{i,q}=1 \\text{ для хотя бы одного игрока в команде } t. \n",
    "\\end{cases}\n",
    "$$\n",
    "\n",
    "Тогда веротяность $p\\left(h_{i,q} \\vert s_i, c_q\\right) \\sim \\sigma\\left(b + s_i + c_q\\right), s_i-$ сила игрока $i$, $c_q-$ сложность вопроса, $b \\in \\mathbb{R}-$ глобальное смещение. Условную веротяность будем моделировать с помощью сигмоиды."
   ]
  },
  {
   "cell_type": "markdown",
   "metadata": {},
   "source": [
    "Рассмотрим итерация EM-алгоритма для $m \\geq 0$.\n",
    "\n",
    "## E-шаг\n",
    "\n",
    "$$\n",
    "\\mathrm{M} \\left[ h^{(m+1)}_{i,q} \\right] = \n",
    "\\begin{cases}\n",
    "0, x_{t,q} = 0,\\\\\n",
    "p\\left( h^{(m)}_{i,q} = 1 \\vert \\exists j \\in t, h^{(m)}_{j,k} = 1\\right) =\n",
    "\\dfrac{\\sigma \\left(b^{(m)} + s^{(m)}_i + c^{(m)}_q\\right)}{1-\\prod\\limits_{k \\in t} \\left(1 - \\sigma\\left(b^{(m)} + s^{(m)}_k + c^{(m)}_q\\right)\\right)}, \\text{ если } x_{t,q} = 1.\n",
    "\\end{cases}\n",
    "$$\n",
    "\n",
    "## М-шаг\n",
    "\n",
    "Происходит обучение обучение логистичексой регрессии при известных $\\mathrm{M} \\left[ h^{(m+1)}_{i,q} \\right]$ и уточнение параметров:\n",
    "$$\n",
    "\\mathrm{M} \\left[ h^{(m+1)}_{i,q} \\right] \\sim \\sigma\\left(b^{(m+1)} + s^{(m+1)}_k + c^{(m+1)}_q\\right)\n",
    "$$\n",
    "\n",
    "\n",
    "Пусть параметры модели образуют составляют вектор $w = \\left(s_1,s_2,\\ldots,s_P, c_1, c_2, \\ldots, c_A, b \\right)^T,$ где $P-$ общее число игроков, $A-$ общее число вопросов."
   ]
  },
  {
   "cell_type": "code",
   "execution_count": 49,
   "metadata": {},
   "outputs": [],
   "source": [
    "coo_features = features.tocoo(copy=False)"
   ]
  },
  {
   "cell_type": "code",
   "execution_count": 50,
   "metadata": {},
   "outputs": [
    {
     "data": {
      "text/plain": [
       "<17823516x91209 sparse matrix of type '<class 'numpy.float64'>'\n",
       "\twith 35647032 stored elements in COOrdinate format>"
      ]
     },
     "execution_count": 50,
     "metadata": {},
     "output_type": "execute_result"
    }
   ],
   "source": [
    "coo_features"
   ]
  },
  {
   "cell_type": "code",
   "execution_count": 56,
   "metadata": {},
   "outputs": [],
   "source": [
    "device = torch.device(\"cuda\" if torch.cuda.is_available() else \"cpu\")"
   ]
  },
  {
   "cell_type": "code",
   "execution_count": 57,
   "metadata": {},
   "outputs": [
    {
     "name": "stdout",
     "output_type": "stream",
     "text": [
      "2021-04-03 23:54:59,649 INFO em_algo __init__ Will train logistic regression on cuda\n"
     ]
    }
   ],
   "source": [
    "log_dir = pathlib.Path(\"em_train\", \"logs\")\n",
    "if log_dir.exists():\n",
    "    shutil.rmtree(log_dir)\n",
    "log_dir.mkdir(exist_ok=True, parents=True)\n",
    "\n",
    "em_model = EMRatingModel(em_num_iter=6, lr=1e-4,\n",
    "                         log_reg_num_iter=20, device=device, log_dir=log_dir)"
   ]
  },
  {
   "cell_type": "code",
   "execution_count": 58,
   "metadata": {},
   "outputs": [
    {
     "name": "stdout",
     "output_type": "stream",
     "text": [
      "2021-04-03 23:55:10,024 INFO em_algo _build_player_team_round_indices Building mask for zeroing hidden variables\n",
      "2021-04-03 23:55:10,041 INFO em_algo _build_player_team_round_indices Use 100000 as base value for grouping\n"
     ]
    },
    {
     "name": "stderr",
     "output_type": "stream",
     "text": [
      "100%|█████████████████████████████████████████████████████████████████████████████████████████████████████████████| 80385/80385 [00:06<00:00, 11542.71it/s]\n",
      "M step:   0%|                                                                                                                        | 0/6 [00:06<?, ?it/s]\n",
      "Train logistic regression:   0%|                                                                                                    | 0/20 [00:00<?, ?it/s]\u001b[A\n",
      "Train logistic regression:   0%|                                                          | 0/20 [00:00<?, ?it/s, Binary cross entropy=0.464, MAE=0.000149]\u001b[A\n",
      "Train logistic regression:   5%|██▌                                               | 1/20 [00:00<00:12,  1.55it/s, Binary cross entropy=0.464, MAE=0.000149]\u001b[A\n",
      "Train logistic regression:   5%|██▌                                               | 1/20 [00:01<00:12,  1.55it/s, Binary cross entropy=0.464, MAE=0.000167]\u001b[A\n",
      "Train logistic regression:  10%|█████                                             | 2/20 [00:01<00:11,  1.56it/s, Binary cross entropy=0.464, MAE=0.000167]\u001b[A\n",
      "Train logistic regression:  10%|█████                                             | 2/20 [00:01<00:11,  1.56it/s, Binary cross entropy=0.464, MAE=0.000182]\u001b[A\n",
      "Train logistic regression:  15%|███████▌                                          | 3/20 [00:01<00:10,  1.55it/s, Binary cross entropy=0.464, MAE=0.000182]\u001b[A\n",
      "Train logistic regression:  15%|███████▌                                          | 3/20 [00:02<00:10,  1.55it/s, Binary cross entropy=0.464, MAE=0.000196]\u001b[A\n",
      "Train logistic regression:  20%|██████████                                        | 4/20 [00:02<00:10,  1.55it/s, Binary cross entropy=0.464, MAE=0.000196]\u001b[A\n",
      "Train logistic regression:  20%|██████████                                        | 4/20 [00:03<00:10,  1.55it/s, Binary cross entropy=0.464, MAE=0.000209]\u001b[A\n",
      "Train logistic regression:  25%|████████████▌                                     | 5/20 [00:03<00:09,  1.55it/s, Binary cross entropy=0.464, MAE=0.000209]\u001b[A\n",
      "Train logistic regression:  25%|████████████▊                                      | 5/20 [00:03<00:09,  1.55it/s, Binary cross entropy=0.464, MAE=0.00022]\u001b[A\n",
      "Train logistic regression:  30%|███████████████▎                                   | 6/20 [00:03<00:09,  1.54it/s, Binary cross entropy=0.464, MAE=0.00022]\u001b[A\n",
      "Train logistic regression:  30%|███████████████▎                                   | 6/20 [00:04<00:09,  1.54it/s, Binary cross entropy=0.464, MAE=0.00023]\u001b[A\n",
      "Train logistic regression:  35%|█████████████████▊                                 | 7/20 [00:04<00:08,  1.52it/s, Binary cross entropy=0.464, MAE=0.00023]\u001b[A\n",
      "Train logistic regression:  35%|█████████████████▌                                | 7/20 [00:05<00:08,  1.52it/s, Binary cross entropy=0.464, MAE=0.000239]\u001b[A\n",
      "Train logistic regression:  40%|████████████████████                              | 8/20 [00:05<00:07,  1.51it/s, Binary cross entropy=0.464, MAE=0.000239]\u001b[A\n",
      "Train logistic regression:  40%|████████████████████                              | 8/20 [00:05<00:07,  1.51it/s, Binary cross entropy=0.464, MAE=0.000239]\u001b[A\n",
      "Train logistic regression:  45%|██████████████████████▌                           | 9/20 [00:05<00:07,  1.53it/s, Binary cross entropy=0.464, MAE=0.000239]\u001b[A\n",
      "Train logistic regression:  45%|██████████████████████▉                            | 9/20 [00:06<00:07,  1.53it/s, Binary cross entropy=0.464, MAE=0.00024]\u001b[A\n",
      "Train logistic regression:  50%|█████████████████████████                         | 10/20 [00:06<00:06,  1.54it/s, Binary cross entropy=0.464, MAE=0.00024]\u001b[A\n",
      "Train logistic regression:  50%|████████████████████████▌                        | 10/20 [00:07<00:06,  1.54it/s, Binary cross entropy=0.464, MAE=0.000241]\u001b[A\n",
      "Train logistic regression:  55%|██████████████████████████▉                      | 11/20 [00:07<00:05,  1.54it/s, Binary cross entropy=0.464, MAE=0.000241]\u001b[A\n",
      "Train logistic regression:  55%|██████████████████████████▉                      | 11/20 [00:07<00:05,  1.54it/s, Binary cross entropy=0.464, MAE=0.000241]\u001b[A\n",
      "Train logistic regression:  60%|█████████████████████████████▍                   | 12/20 [00:07<00:05,  1.55it/s, Binary cross entropy=0.464, MAE=0.000241]\u001b[A\n",
      "Train logistic regression:  60%|█████████████████████████████▍                   | 12/20 [00:08<00:05,  1.55it/s, Binary cross entropy=0.464, MAE=0.000242]\u001b[A\n",
      "Train logistic regression:  65%|███████████████████████████████▊                 | 13/20 [00:08<00:04,  1.55it/s, Binary cross entropy=0.464, MAE=0.000242]\u001b[A\n",
      "Train logistic regression:  65%|███████████████████████████████▊                 | 13/20 [00:09<00:04,  1.55it/s, Binary cross entropy=0.464, MAE=0.000242]\u001b[A\n",
      "Train logistic regression:  70%|██████████████████████████████████▎              | 14/20 [00:09<00:03,  1.56it/s, Binary cross entropy=0.464, MAE=0.000242]\u001b[A\n",
      "Train logistic regression:  70%|██████████████████████████████████▎              | 14/20 [00:09<00:03,  1.56it/s, Binary cross entropy=0.464, MAE=0.000242]\u001b[A\n",
      "Train logistic regression:  75%|████████████████████████████████████▊            | 15/20 [00:09<00:03,  1.56it/s, Binary cross entropy=0.464, MAE=0.000242]\u001b[A\n",
      "Train logistic regression:  75%|████████████████████████████████████▊            | 15/20 [00:10<00:03,  1.56it/s, Binary cross entropy=0.464, MAE=0.000242]\u001b[A\n",
      "Train logistic regression:  80%|███████████████████████████████████████▏         | 16/20 [00:10<00:02,  1.55it/s, Binary cross entropy=0.464, MAE=0.000242]\u001b[A\n",
      "Train logistic regression:  80%|███████████████████████████████████████▏         | 16/20 [00:11<00:02,  1.55it/s, Binary cross entropy=0.464, MAE=0.000242]\u001b[A\n",
      "Train logistic regression:  85%|█████████████████████████████████████████▋       | 17/20 [00:11<00:01,  1.54it/s, Binary cross entropy=0.464, MAE=0.000242]\u001b[A\n",
      "Train logistic regression:  85%|█████████████████████████████████████████▋       | 17/20 [00:11<00:01,  1.54it/s, Binary cross entropy=0.464, MAE=0.000242]\u001b[A\n",
      "Train logistic regression:  90%|████████████████████████████████████████████     | 18/20 [00:11<00:01,  1.54it/s, Binary cross entropy=0.464, MAE=0.000242]\u001b[A\n",
      "Train logistic regression:  90%|████████████████████████████████████████████     | 18/20 [00:12<00:01,  1.54it/s, Binary cross entropy=0.464, MAE=0.000243]\u001b[A\n",
      "Train logistic regression:  95%|██████████████████████████████████████████████▌  | 19/20 [00:12<00:00,  1.54it/s, Binary cross entropy=0.464, MAE=0.000243]\u001b[A\n",
      "Train logistic regression:  95%|██████████████████████████████████████████████▌  | 19/20 [00:12<00:00,  1.54it/s, Binary cross entropy=0.464, MAE=0.000243]\u001b[A\n",
      "Train logistic regression: 100%|█████████████████████████████████████████████████| 20/20 [00:12<00:00,  1.54it/s, Binary cross entropy=0.464, MAE=0.000243]\u001b[A\n"
     ]
    },
    {
     "name": "stdout",
     "output_type": "stream",
     "text": [
      "2021-04-03 23:56:00,665 INFO em_algo _validate Absolute difference relative to baseline:\n",
      "2021-04-03 23:56:00,666 INFO em_algo _validate Kendall +0.000052\n",
      "2021-04-03 23:56:00,667 INFO em_algo _validate Spearman +0.000076\n",
      "2021-04-03 23:56:00,677 INFO em_algo _validate Corr coefficients: {'Kendall': 0.5807244838116733, 'Spearman': 0.7449160097307868}\n"
     ]
    },
    {
     "name": "stderr",
     "output_type": "stream",
     "text": [
      "M step:  17%|██████████████████▋                                                                                             | 1/6 [00:29<01:47, 21.52s/it]\n",
      "Train logistic regression:   0%|                                                                                                    | 0/20 [00:00<?, ?it/s]\u001b[A\n",
      "Train logistic regression:   0%|                                                          | 0/20 [00:00<?, ?it/s, Binary cross entropy=0.464, MAE=0.000149]\u001b[A\n",
      "Train logistic regression:   5%|██▌                                               | 1/20 [00:00<00:12,  1.51it/s, Binary cross entropy=0.464, MAE=0.000149]\u001b[A\n",
      "Train logistic regression:   5%|██▌                                               | 1/20 [00:01<00:12,  1.51it/s, Binary cross entropy=0.464, MAE=0.000166]\u001b[A\n",
      "Train logistic regression:  10%|█████                                             | 2/20 [00:01<00:11,  1.55it/s, Binary cross entropy=0.464, MAE=0.000166]\u001b[A\n",
      "Train logistic regression:  10%|█████                                             | 2/20 [00:01<00:11,  1.55it/s, Binary cross entropy=0.464, MAE=0.000182]\u001b[A\n",
      "Train logistic regression:  15%|███████▌                                          | 3/20 [00:01<00:10,  1.55it/s, Binary cross entropy=0.464, MAE=0.000182]\u001b[A\n",
      "Train logistic regression:  15%|███████▌                                          | 3/20 [00:02<00:10,  1.55it/s, Binary cross entropy=0.464, MAE=0.000196]\u001b[A\n",
      "Train logistic regression:  20%|██████████                                        | 4/20 [00:02<00:10,  1.55it/s, Binary cross entropy=0.464, MAE=0.000196]\u001b[A\n",
      "Train logistic regression:  20%|██████████                                        | 4/20 [00:03<00:10,  1.55it/s, Binary cross entropy=0.464, MAE=0.000209]\u001b[A\n",
      "Train logistic regression:  25%|████████████▌                                     | 5/20 [00:03<00:09,  1.55it/s, Binary cross entropy=0.464, MAE=0.000209]\u001b[A\n",
      "Train logistic regression:  25%|████████████▊                                      | 5/20 [00:03<00:09,  1.55it/s, Binary cross entropy=0.464, MAE=0.00022]\u001b[A\n",
      "Train logistic regression:  30%|███████████████▎                                   | 6/20 [00:03<00:08,  1.56it/s, Binary cross entropy=0.464, MAE=0.00022]\u001b[A\n",
      "Train logistic regression:  30%|███████████████▎                                   | 6/20 [00:04<00:08,  1.56it/s, Binary cross entropy=0.464, MAE=0.00023]\u001b[A\n",
      "Train logistic regression:  35%|█████████████████▊                                 | 7/20 [00:04<00:08,  1.56it/s, Binary cross entropy=0.464, MAE=0.00023]\u001b[A\n",
      "Train logistic regression:  35%|█████████████████▌                                | 7/20 [00:05<00:08,  1.56it/s, Binary cross entropy=0.464, MAE=0.000239]\u001b[A\n",
      "Train logistic regression:  40%|████████████████████                              | 8/20 [00:05<00:07,  1.56it/s, Binary cross entropy=0.464, MAE=0.000239]\u001b[A\n",
      "Train logistic regression:  40%|████████████████████                              | 8/20 [00:05<00:07,  1.56it/s, Binary cross entropy=0.464, MAE=0.000239]\u001b[A\n",
      "Train logistic regression:  45%|██████████████████████▌                           | 9/20 [00:05<00:07,  1.56it/s, Binary cross entropy=0.464, MAE=0.000239]\u001b[A\n",
      "Train logistic regression:  45%|██████████████████████▉                            | 9/20 [00:06<00:07,  1.56it/s, Binary cross entropy=0.464, MAE=0.00024]\u001b[A\n",
      "Train logistic regression:  50%|█████████████████████████                         | 10/20 [00:06<00:06,  1.56it/s, Binary cross entropy=0.464, MAE=0.00024]\u001b[A\n",
      "Train logistic regression:  50%|████████████████████████▌                        | 10/20 [00:07<00:06,  1.56it/s, Binary cross entropy=0.464, MAE=0.000241]\u001b[A\n",
      "Train logistic regression:  55%|██████████████████████████▉                      | 11/20 [00:07<00:05,  1.56it/s, Binary cross entropy=0.464, MAE=0.000241]\u001b[A\n",
      "Train logistic regression:  55%|██████████████████████████▉                      | 11/20 [00:07<00:05,  1.56it/s, Binary cross entropy=0.464, MAE=0.000241]\u001b[A\n",
      "Train logistic regression:  60%|█████████████████████████████▍                   | 12/20 [00:07<00:05,  1.56it/s, Binary cross entropy=0.464, MAE=0.000241]\u001b[A\n",
      "Train logistic regression:  60%|█████████████████████████████▍                   | 12/20 [00:08<00:05,  1.56it/s, Binary cross entropy=0.464, MAE=0.000242]\u001b[A\n",
      "Train logistic regression:  65%|███████████████████████████████▊                 | 13/20 [00:08<00:04,  1.56it/s, Binary cross entropy=0.464, MAE=0.000242]\u001b[A\n",
      "Train logistic regression:  65%|███████████████████████████████▊                 | 13/20 [00:08<00:04,  1.56it/s, Binary cross entropy=0.464, MAE=0.000242]\u001b[A\n",
      "Train logistic regression:  70%|██████████████████████████████████▎              | 14/20 [00:09<00:03,  1.56it/s, Binary cross entropy=0.464, MAE=0.000242]\u001b[A\n",
      "Train logistic regression:  70%|██████████████████████████████████▎              | 14/20 [00:09<00:03,  1.56it/s, Binary cross entropy=0.464, MAE=0.000242]\u001b[A\n",
      "Train logistic regression:  75%|████████████████████████████████████▊            | 15/20 [00:09<00:03,  1.56it/s, Binary cross entropy=0.464, MAE=0.000242]\u001b[A\n",
      "Train logistic regression:  75%|████████████████████████████████████▊            | 15/20 [00:10<00:03,  1.56it/s, Binary cross entropy=0.464, MAE=0.000242]\u001b[A\n",
      "Train logistic regression:  80%|███████████████████████████████████████▏         | 16/20 [00:10<00:02,  1.56it/s, Binary cross entropy=0.464, MAE=0.000242]\u001b[A\n",
      "Train logistic regression:  80%|███████████████████████████████████████▏         | 16/20 [00:10<00:02,  1.56it/s, Binary cross entropy=0.464, MAE=0.000242]\u001b[A\n",
      "Train logistic regression:  85%|█████████████████████████████████████████▋       | 17/20 [00:10<00:01,  1.56it/s, Binary cross entropy=0.464, MAE=0.000242]\u001b[A\n",
      "Train logistic regression:  85%|█████████████████████████████████████████▋       | 17/20 [00:11<00:01,  1.56it/s, Binary cross entropy=0.464, MAE=0.000242]\u001b[A\n",
      "Train logistic regression:  90%|████████████████████████████████████████████     | 18/20 [00:11<00:01,  1.56it/s, Binary cross entropy=0.464, MAE=0.000242]\u001b[A\n",
      "Train logistic regression:  90%|████████████████████████████████████████████     | 18/20 [00:12<00:01,  1.56it/s, Binary cross entropy=0.464, MAE=0.000242]\u001b[A\n",
      "Train logistic regression:  95%|██████████████████████████████████████████████▌  | 19/20 [00:12<00:00,  1.56it/s, Binary cross entropy=0.464, MAE=0.000242]\u001b[A\n",
      "Train logistic regression:  95%|██████████████████████████████████████████████▌  | 19/20 [00:12<00:00,  1.56it/s, Binary cross entropy=0.464, MAE=0.000242]\u001b[A\n",
      "Train logistic regression: 100%|█████████████████████████████████████████████████| 20/20 [00:12<00:00,  1.56it/s, Binary cross entropy=0.464, MAE=0.000242]\u001b[A\n"
     ]
    },
    {
     "name": "stdout",
     "output_type": "stream",
     "text": [
      "2021-04-03 23:56:23,146 INFO em_algo _validate Absolute difference relative to baseline:\n",
      "2021-04-03 23:56:23,148 INFO em_algo _validate Kendall +0.000054\n",
      "2021-04-03 23:56:23,151 INFO em_algo _validate Spearman +0.000082\n",
      "2021-04-03 23:56:23,153 INFO em_algo _validate Absolute difference relative to previous params:\n",
      "2021-04-03 23:56:23,155 INFO em_algo _validate Kendall +0.000002\n",
      "2021-04-03 23:56:23,156 INFO em_algo _validate Spearman +0.000006\n",
      "2021-04-03 23:56:23,158 INFO em_algo _validate Corr coefficients: {'Kendall': 0.5807263445137043, 'Spearman': 0.7449217629397125}\n"
     ]
    },
    {
     "name": "stderr",
     "output_type": "stream",
     "text": [
      "M step:  33%|█████████████████████████████████████▎                                                                          | 2/6 [00:50<01:28, 22.09s/it]\n",
      "Train logistic regression:   0%|                                                                                                    | 0/20 [00:00<?, ?it/s]\u001b[A\n",
      "Train logistic regression:   0%|                                                          | 0/20 [00:00<?, ?it/s, Binary cross entropy=0.464, MAE=0.000149]\u001b[A\n",
      "Train logistic regression:   5%|██▌                                               | 1/20 [00:00<00:12,  1.56it/s, Binary cross entropy=0.464, MAE=0.000149]\u001b[A\n",
      "Train logistic regression:   5%|██▌                                               | 1/20 [00:01<00:12,  1.56it/s, Binary cross entropy=0.464, MAE=0.000166]\u001b[A\n",
      "Train logistic regression:  10%|█████                                             | 2/20 [00:01<00:11,  1.55it/s, Binary cross entropy=0.464, MAE=0.000166]\u001b[A\n",
      "Train logistic regression:  10%|█████                                             | 2/20 [00:01<00:11,  1.55it/s, Binary cross entropy=0.464, MAE=0.000182]\u001b[A\n",
      "Train logistic regression:  15%|███████▌                                          | 3/20 [00:01<00:10,  1.55it/s, Binary cross entropy=0.464, MAE=0.000182]\u001b[A\n",
      "Train logistic regression:  15%|███████▌                                          | 3/20 [00:02<00:10,  1.55it/s, Binary cross entropy=0.464, MAE=0.000196]\u001b[A\n",
      "Train logistic regression:  20%|██████████                                        | 4/20 [00:02<00:10,  1.55it/s, Binary cross entropy=0.464, MAE=0.000196]\u001b[A\n",
      "Train logistic regression:  20%|██████████                                        | 4/20 [00:03<00:10,  1.55it/s, Binary cross entropy=0.464, MAE=0.000208]\u001b[A\n",
      "Train logistic regression:  25%|████████████▌                                     | 5/20 [00:03<00:09,  1.55it/s, Binary cross entropy=0.464, MAE=0.000208]\u001b[A\n",
      "Train logistic regression:  25%|████████████▊                                      | 5/20 [00:03<00:09,  1.55it/s, Binary cross entropy=0.464, MAE=0.00022]\u001b[A\n",
      "Train logistic regression:  30%|███████████████▎                                   | 6/20 [00:03<00:09,  1.55it/s, Binary cross entropy=0.464, MAE=0.00022]\u001b[A\n",
      "Train logistic regression:  30%|███████████████▎                                   | 6/20 [00:04<00:09,  1.55it/s, Binary cross entropy=0.464, MAE=0.00023]\u001b[A\n",
      "Train logistic regression:  35%|█████████████████▊                                 | 7/20 [00:04<00:08,  1.55it/s, Binary cross entropy=0.464, MAE=0.00023]\u001b[A\n",
      "Train logistic regression:  35%|█████████████████▌                                | 7/20 [00:05<00:08,  1.55it/s, Binary cross entropy=0.464, MAE=0.000238]\u001b[A\n",
      "Train logistic regression:  40%|████████████████████                              | 8/20 [00:05<00:07,  1.55it/s, Binary cross entropy=0.464, MAE=0.000238]\u001b[A\n",
      "Train logistic regression:  40%|████████████████████                              | 8/20 [00:05<00:07,  1.55it/s, Binary cross entropy=0.464, MAE=0.000239]\u001b[A\n",
      "Train logistic regression:  45%|██████████████████████▌                           | 9/20 [00:05<00:07,  1.55it/s, Binary cross entropy=0.464, MAE=0.000239]\u001b[A\n",
      "Train logistic regression:  45%|██████████████████████▉                            | 9/20 [00:06<00:07,  1.55it/s, Binary cross entropy=0.464, MAE=0.00024]\u001b[A\n",
      "Train logistic regression:  50%|█████████████████████████                         | 10/20 [00:06<00:06,  1.55it/s, Binary cross entropy=0.464, MAE=0.00024]\u001b[A\n",
      "Train logistic regression:  50%|█████████████████████████                         | 10/20 [00:07<00:06,  1.55it/s, Binary cross entropy=0.464, MAE=0.00024]\u001b[A\n",
      "Train logistic regression:  55%|███████████████████████████▌                      | 11/20 [00:07<00:05,  1.54it/s, Binary cross entropy=0.464, MAE=0.00024]\u001b[A\n",
      "Train logistic regression:  55%|██████████████████████████▉                      | 11/20 [00:07<00:05,  1.54it/s, Binary cross entropy=0.464, MAE=0.000241]\u001b[A\n",
      "Train logistic regression:  60%|█████████████████████████████▍                   | 12/20 [00:07<00:05,  1.53it/s, Binary cross entropy=0.464, MAE=0.000241]\u001b[A\n",
      "Train logistic regression:  60%|█████████████████████████████▍                   | 12/20 [00:08<00:05,  1.53it/s, Binary cross entropy=0.464, MAE=0.000241]\u001b[A\n",
      "Train logistic regression:  65%|███████████████████████████████▊                 | 13/20 [00:08<00:04,  1.52it/s, Binary cross entropy=0.464, MAE=0.000241]\u001b[A\n",
      "Train logistic regression:  65%|███████████████████████████████▊                 | 13/20 [00:09<00:04,  1.52it/s, Binary cross entropy=0.464, MAE=0.000242]\u001b[A\n",
      "Train logistic regression:  70%|██████████████████████████████████▎              | 14/20 [00:09<00:03,  1.52it/s, Binary cross entropy=0.464, MAE=0.000242]\u001b[A\n",
      "Train logistic regression:  70%|██████████████████████████████████▎              | 14/20 [00:09<00:03,  1.52it/s, Binary cross entropy=0.464, MAE=0.000242]\u001b[A\n",
      "Train logistic regression:  75%|████████████████████████████████████▊            | 15/20 [00:09<00:03,  1.53it/s, Binary cross entropy=0.464, MAE=0.000242]\u001b[A\n",
      "Train logistic regression:  75%|████████████████████████████████████▊            | 15/20 [00:10<00:03,  1.53it/s, Binary cross entropy=0.464, MAE=0.000242]\u001b[A\n",
      "Train logistic regression:  80%|███████████████████████████████████████▏         | 16/20 [00:10<00:02,  1.54it/s, Binary cross entropy=0.464, MAE=0.000242]\u001b[A\n",
      "Train logistic regression:  80%|███████████████████████████████████████▏         | 16/20 [00:11<00:02,  1.54it/s, Binary cross entropy=0.464, MAE=0.000242]\u001b[A\n",
      "Train logistic regression:  85%|█████████████████████████████████████████▋       | 17/20 [00:11<00:01,  1.53it/s, Binary cross entropy=0.464, MAE=0.000242]\u001b[A\n",
      "Train logistic regression:  85%|█████████████████████████████████████████▋       | 17/20 [00:11<00:01,  1.53it/s, Binary cross entropy=0.464, MAE=0.000242]\u001b[A\n",
      "Train logistic regression:  90%|████████████████████████████████████████████     | 18/20 [00:11<00:01,  1.54it/s, Binary cross entropy=0.464, MAE=0.000242]\u001b[A\n",
      "Train logistic regression:  90%|████████████████████████████████████████████     | 18/20 [00:12<00:01,  1.54it/s, Binary cross entropy=0.464, MAE=0.000242]\u001b[A\n",
      "Train logistic regression:  95%|██████████████████████████████████████████████▌  | 19/20 [00:12<00:00,  1.54it/s, Binary cross entropy=0.464, MAE=0.000242]\u001b[A\n",
      "Train logistic regression:  95%|██████████████████████████████████████████████▌  | 19/20 [00:12<00:00,  1.54it/s, Binary cross entropy=0.464, MAE=0.000242]\u001b[A\n",
      "Train logistic regression: 100%|█████████████████████████████████████████████████| 20/20 [00:12<00:00,  1.54it/s, Binary cross entropy=0.464, MAE=0.000242]\u001b[A\n"
     ]
    },
    {
     "name": "stdout",
     "output_type": "stream",
     "text": [
      "2021-04-03 23:56:45,193 INFO em_algo _validate Absolute difference relative to baseline:\n",
      "2021-04-03 23:56:45,196 INFO em_algo _validate Kendall +0.000056\n",
      "2021-04-03 23:56:45,197 INFO em_algo _validate Spearman +0.000087\n",
      "2021-04-03 23:56:45,198 INFO em_algo _validate Absolute difference relative to previous params:\n",
      "2021-04-03 23:56:45,201 INFO em_algo _validate Kendall +0.000001\n",
      "2021-04-03 23:56:45,205 INFO em_algo _validate Spearman +0.000005\n",
      "2021-04-03 23:56:45,208 INFO em_algo _validate Corr coefficients: {'Kendall': 0.5807277897810972, 'Spearman': 0.7449268433775905}\n"
     ]
    },
    {
     "name": "stderr",
     "output_type": "stream",
     "text": [
      "M step:  50%|████████████████████████████████████████████████████████                                                        | 3/6 [01:12<01:06, 22.07s/it]\n",
      "Train logistic regression:   0%|                                                                                                    | 0/20 [00:00<?, ?it/s]\u001b[A\n",
      "Train logistic regression:   0%|                                                          | 0/20 [00:00<?, ?it/s, Binary cross entropy=0.464, MAE=0.000148]\u001b[A\n",
      "Train logistic regression:   5%|██▌                                               | 1/20 [00:00<00:12,  1.53it/s, Binary cross entropy=0.464, MAE=0.000148]\u001b[A\n",
      "Train logistic regression:   5%|██▌                                               | 1/20 [00:01<00:12,  1.53it/s, Binary cross entropy=0.464, MAE=0.000166]\u001b[A\n",
      "Train logistic regression:  10%|█████                                             | 2/20 [00:01<00:11,  1.54it/s, Binary cross entropy=0.464, MAE=0.000166]\u001b[A\n",
      "Train logistic regression:  10%|█████                                             | 2/20 [00:01<00:11,  1.54it/s, Binary cross entropy=0.464, MAE=0.000182]\u001b[A\n",
      "Train logistic regression:  15%|███████▌                                          | 3/20 [00:01<00:10,  1.55it/s, Binary cross entropy=0.464, MAE=0.000182]\u001b[A\n",
      "Train logistic regression:  15%|███████▌                                          | 3/20 [00:02<00:10,  1.55it/s, Binary cross entropy=0.464, MAE=0.000196]\u001b[A\n",
      "Train logistic regression:  20%|██████████                                        | 4/20 [00:02<00:10,  1.55it/s, Binary cross entropy=0.464, MAE=0.000196]\u001b[A\n",
      "Train logistic regression:  20%|██████████                                        | 4/20 [00:03<00:10,  1.55it/s, Binary cross entropy=0.464, MAE=0.000208]\u001b[A\n",
      "Train logistic regression:  25%|████████████▌                                     | 5/20 [00:03<00:09,  1.55it/s, Binary cross entropy=0.464, MAE=0.000208]\u001b[A\n",
      "Train logistic regression:  25%|████████████▌                                     | 5/20 [00:03<00:09,  1.55it/s, Binary cross entropy=0.464, MAE=0.000219]\u001b[A\n",
      "Train logistic regression:  30%|███████████████                                   | 6/20 [00:03<00:09,  1.55it/s, Binary cross entropy=0.464, MAE=0.000219]\u001b[A\n",
      "Train logistic regression:  30%|███████████████                                   | 6/20 [00:04<00:09,  1.55it/s, Binary cross entropy=0.464, MAE=0.000229]\u001b[A\n",
      "Train logistic regression:  35%|█████████████████▌                                | 7/20 [00:04<00:08,  1.55it/s, Binary cross entropy=0.464, MAE=0.000229]\u001b[A\n",
      "Train logistic regression:  35%|█████████████████▌                                | 7/20 [00:05<00:08,  1.55it/s, Binary cross entropy=0.464, MAE=0.000238]\u001b[A\n",
      "Train logistic regression:  40%|████████████████████                              | 8/20 [00:05<00:07,  1.51it/s, Binary cross entropy=0.464, MAE=0.000238]\u001b[A\n",
      "Train logistic regression:  40%|████████████████████                              | 8/20 [00:05<00:07,  1.51it/s, Binary cross entropy=0.464, MAE=0.000239]\u001b[A\n",
      "Train logistic regression:  45%|██████████████████████▌                           | 9/20 [00:05<00:07,  1.51it/s, Binary cross entropy=0.464, MAE=0.000239]\u001b[A\n",
      "Train logistic regression:  45%|██████████████████████▉                            | 9/20 [00:06<00:07,  1.51it/s, Binary cross entropy=0.464, MAE=0.00024]\u001b[A\n",
      "Train logistic regression:  50%|█████████████████████████                         | 10/20 [00:06<00:06,  1.53it/s, Binary cross entropy=0.464, MAE=0.00024]\u001b[A\n",
      "Train logistic regression:  50%|█████████████████████████                         | 10/20 [00:07<00:06,  1.53it/s, Binary cross entropy=0.464, MAE=0.00024]\u001b[A\n",
      "Train logistic regression:  55%|███████████████████████████▌                      | 11/20 [00:07<00:05,  1.54it/s, Binary cross entropy=0.464, MAE=0.00024]\u001b[A\n",
      "Train logistic regression:  55%|██████████████████████████▉                      | 11/20 [00:07<00:05,  1.54it/s, Binary cross entropy=0.464, MAE=0.000241]\u001b[A\n",
      "Train logistic regression:  60%|█████████████████████████████▍                   | 12/20 [00:07<00:05,  1.54it/s, Binary cross entropy=0.464, MAE=0.000241]\u001b[A\n",
      "Train logistic regression:  60%|█████████████████████████████▍                   | 12/20 [00:08<00:05,  1.54it/s, Binary cross entropy=0.464, MAE=0.000241]\u001b[A\n",
      "Train logistic regression:  65%|███████████████████████████████▊                 | 13/20 [00:08<00:04,  1.55it/s, Binary cross entropy=0.464, MAE=0.000241]\u001b[A\n",
      "Train logistic regression:  65%|███████████████████████████████▊                 | 13/20 [00:09<00:04,  1.55it/s, Binary cross entropy=0.464, MAE=0.000242]\u001b[A\n",
      "Train logistic regression:  70%|██████████████████████████████████▎              | 14/20 [00:09<00:03,  1.55it/s, Binary cross entropy=0.464, MAE=0.000242]\u001b[A\n",
      "Train logistic regression:  70%|██████████████████████████████████▎              | 14/20 [00:09<00:03,  1.55it/s, Binary cross entropy=0.464, MAE=0.000242]\u001b[A\n",
      "Train logistic regression:  75%|████████████████████████████████████▊            | 15/20 [00:09<00:03,  1.56it/s, Binary cross entropy=0.464, MAE=0.000242]\u001b[A\n",
      "Train logistic regression:  75%|████████████████████████████████████▊            | 15/20 [00:10<00:03,  1.56it/s, Binary cross entropy=0.464, MAE=0.000242]\u001b[A\n",
      "Train logistic regression:  80%|███████████████████████████████████████▏         | 16/20 [00:10<00:02,  1.55it/s, Binary cross entropy=0.464, MAE=0.000242]\u001b[A\n",
      "Train logistic regression:  80%|███████████████████████████████████████▏         | 16/20 [00:11<00:02,  1.55it/s, Binary cross entropy=0.464, MAE=0.000242]\u001b[A\n",
      "Train logistic regression:  85%|█████████████████████████████████████████▋       | 17/20 [00:11<00:01,  1.55it/s, Binary cross entropy=0.464, MAE=0.000242]\u001b[A\n",
      "Train logistic regression:  85%|█████████████████████████████████████████▋       | 17/20 [00:11<00:01,  1.55it/s, Binary cross entropy=0.464, MAE=0.000242]\u001b[A\n",
      "Train logistic regression:  90%|████████████████████████████████████████████     | 18/20 [00:11<00:01,  1.56it/s, Binary cross entropy=0.464, MAE=0.000242]\u001b[A\n",
      "Train logistic regression:  90%|████████████████████████████████████████████     | 18/20 [00:12<00:01,  1.56it/s, Binary cross entropy=0.464, MAE=0.000242]\u001b[A\n",
      "Train logistic regression:  95%|██████████████████████████████████████████████▌  | 19/20 [00:12<00:00,  1.55it/s, Binary cross entropy=0.464, MAE=0.000242]\u001b[A\n",
      "Train logistic regression:  95%|██████████████████████████████████████████████▌  | 19/20 [00:12<00:00,  1.55it/s, Binary cross entropy=0.464, MAE=0.000242]\u001b[A\n",
      "Train logistic regression: 100%|█████████████████████████████████████████████████| 20/20 [00:12<00:00,  1.55it/s, Binary cross entropy=0.464, MAE=0.000242]\u001b[A\n"
     ]
    },
    {
     "name": "stdout",
     "output_type": "stream",
     "text": [
      "2021-04-03 23:57:07,369 INFO em_algo _validate Absolute difference relative to baseline:\n",
      "2021-04-03 23:57:07,370 INFO em_algo _validate Kendall +0.000038\n",
      "2021-04-03 23:57:07,372 INFO em_algo _validate Spearman +0.000080\n",
      "2021-04-03 23:57:07,375 INFO em_algo _validate Absolute difference relative to previous params:\n",
      "2021-04-03 23:57:07,377 INFO em_algo _validate Kendall -0.000018\n",
      "2021-04-03 23:57:07,379 INFO em_algo _validate Spearman -0.000007\n",
      "2021-04-03 23:57:07,382 INFO em_algo _validate Corr coefficients: {'Kendall': 0.5807100811371994, 'Spearman': 0.7449199182100034}\n"
     ]
    },
    {
     "name": "stderr",
     "output_type": "stream",
     "text": [
      "M step:  67%|██████████████████████████████████████████████████████████████████████████▋                                     | 4/6 [01:35<00:44, 22.11s/it]\n",
      "Train logistic regression:   0%|                                                                                                    | 0/20 [00:00<?, ?it/s]\u001b[A\n",
      "Train logistic regression:   0%|                                                          | 0/20 [00:00<?, ?it/s, Binary cross entropy=0.464, MAE=0.000148]\u001b[A\n",
      "Train logistic regression:   5%|██▌                                               | 1/20 [00:00<00:12,  1.55it/s, Binary cross entropy=0.464, MAE=0.000148]\u001b[A\n",
      "Train logistic regression:   5%|██▌                                               | 1/20 [00:01<00:12,  1.55it/s, Binary cross entropy=0.464, MAE=0.000166]\u001b[A\n",
      "Train logistic regression:  10%|█████                                             | 2/20 [00:01<00:11,  1.55it/s, Binary cross entropy=0.464, MAE=0.000166]\u001b[A\n",
      "Train logistic regression:  10%|█████                                             | 2/20 [00:01<00:11,  1.55it/s, Binary cross entropy=0.464, MAE=0.000182]\u001b[A\n",
      "Train logistic regression:  15%|███████▌                                          | 3/20 [00:01<00:11,  1.54it/s, Binary cross entropy=0.464, MAE=0.000182]\u001b[A\n",
      "Train logistic regression:  15%|███████▌                                          | 3/20 [00:02<00:11,  1.54it/s, Binary cross entropy=0.464, MAE=0.000195]\u001b[A\n",
      "Train logistic regression:  20%|██████████                                        | 4/20 [00:02<00:10,  1.55it/s, Binary cross entropy=0.464, MAE=0.000195]\u001b[A\n",
      "Train logistic regression:  20%|██████████                                        | 4/20 [00:03<00:10,  1.55it/s, Binary cross entropy=0.464, MAE=0.000208]\u001b[A\n",
      "Train logistic regression:  25%|████████████▌                                     | 5/20 [00:03<00:09,  1.55it/s, Binary cross entropy=0.464, MAE=0.000208]\u001b[A\n",
      "Train logistic regression:  25%|████████████▌                                     | 5/20 [00:03<00:09,  1.55it/s, Binary cross entropy=0.464, MAE=0.000219]\u001b[A\n",
      "Train logistic regression:  30%|███████████████                                   | 6/20 [00:03<00:09,  1.55it/s, Binary cross entropy=0.464, MAE=0.000219]\u001b[A\n",
      "Train logistic regression:  30%|███████████████                                   | 6/20 [00:04<00:09,  1.55it/s, Binary cross entropy=0.464, MAE=0.000229]\u001b[A\n",
      "Train logistic regression:  35%|█████████████████▌                                | 7/20 [00:04<00:08,  1.55it/s, Binary cross entropy=0.464, MAE=0.000229]\u001b[A\n",
      "Train logistic regression:  35%|█████████████████▌                                | 7/20 [00:05<00:08,  1.55it/s, Binary cross entropy=0.464, MAE=0.000238]\u001b[A\n",
      "Train logistic regression:  40%|████████████████████                              | 8/20 [00:05<00:07,  1.56it/s, Binary cross entropy=0.464, MAE=0.000238]\u001b[A\n",
      "Train logistic regression:  40%|████████████████████                              | 8/20 [00:05<00:07,  1.56it/s, Binary cross entropy=0.464, MAE=0.000239]\u001b[A\n",
      "Train logistic regression:  45%|██████████████████████▌                           | 9/20 [00:05<00:07,  1.56it/s, Binary cross entropy=0.464, MAE=0.000239]\u001b[A\n",
      "Train logistic regression:  45%|██████████████████████▌                           | 9/20 [00:06<00:07,  1.56it/s, Binary cross entropy=0.464, MAE=0.000239]\u001b[A\n",
      "Train logistic regression:  50%|████████████████████████▌                        | 10/20 [00:06<00:06,  1.55it/s, Binary cross entropy=0.464, MAE=0.000239]\u001b[A\n",
      "Train logistic regression:  50%|█████████████████████████                         | 10/20 [00:07<00:06,  1.55it/s, Binary cross entropy=0.464, MAE=0.00024]\u001b[A\n",
      "Train logistic regression:  55%|███████████████████████████▌                      | 11/20 [00:07<00:05,  1.56it/s, Binary cross entropy=0.464, MAE=0.00024]\u001b[A\n",
      "Train logistic regression:  55%|███████████████████████████▌                      | 11/20 [00:07<00:05,  1.56it/s, Binary cross entropy=0.464, MAE=0.00024]\u001b[A\n",
      "Train logistic regression:  60%|██████████████████████████████                    | 12/20 [00:07<00:05,  1.56it/s, Binary cross entropy=0.464, MAE=0.00024]\u001b[A\n",
      "Train logistic regression:  60%|█████████████████████████████▍                   | 12/20 [00:08<00:05,  1.56it/s, Binary cross entropy=0.464, MAE=0.000241]\u001b[A\n",
      "Train logistic regression:  65%|███████████████████████████████▊                 | 13/20 [00:08<00:04,  1.56it/s, Binary cross entropy=0.464, MAE=0.000241]\u001b[A\n",
      "Train logistic regression:  65%|███████████████████████████████▊                 | 13/20 [00:09<00:04,  1.56it/s, Binary cross entropy=0.464, MAE=0.000241]\u001b[A\n",
      "Train logistic regression:  70%|██████████████████████████████████▎              | 14/20 [00:09<00:03,  1.56it/s, Binary cross entropy=0.464, MAE=0.000241]\u001b[A\n",
      "Train logistic regression:  70%|██████████████████████████████████▎              | 14/20 [00:09<00:03,  1.56it/s, Binary cross entropy=0.464, MAE=0.000241]\u001b[A\n",
      "Train logistic regression:  75%|████████████████████████████████████▊            | 15/20 [00:09<00:03,  1.55it/s, Binary cross entropy=0.464, MAE=0.000241]\u001b[A\n",
      "Train logistic regression:  75%|████████████████████████████████████▊            | 15/20 [00:10<00:03,  1.55it/s, Binary cross entropy=0.464, MAE=0.000242]\u001b[A\n",
      "Train logistic regression:  80%|███████████████████████████████████████▏         | 16/20 [00:10<00:02,  1.56it/s, Binary cross entropy=0.464, MAE=0.000242]\u001b[A\n",
      "Train logistic regression:  80%|███████████████████████████████████████▏         | 16/20 [00:10<00:02,  1.56it/s, Binary cross entropy=0.464, MAE=0.000242]\u001b[A\n",
      "Train logistic regression:  85%|█████████████████████████████████████████▋       | 17/20 [00:10<00:01,  1.56it/s, Binary cross entropy=0.464, MAE=0.000242]\u001b[A\n",
      "Train logistic regression:  85%|█████████████████████████████████████████▋       | 17/20 [00:11<00:01,  1.56it/s, Binary cross entropy=0.464, MAE=0.000242]\u001b[A\n",
      "Train logistic regression:  90%|████████████████████████████████████████████     | 18/20 [00:11<00:01,  1.56it/s, Binary cross entropy=0.464, MAE=0.000242]\u001b[A\n",
      "Train logistic regression:  90%|████████████████████████████████████████████     | 18/20 [00:12<00:01,  1.56it/s, Binary cross entropy=0.464, MAE=0.000242]\u001b[A\n",
      "Train logistic regression:  95%|██████████████████████████████████████████████▌  | 19/20 [00:12<00:00,  1.56it/s, Binary cross entropy=0.464, MAE=0.000242]\u001b[A\n",
      "Train logistic regression:  95%|██████████████████████████████████████████████▌  | 19/20 [00:12<00:00,  1.56it/s, Binary cross entropy=0.464, MAE=0.000242]\u001b[A\n",
      "Train logistic regression: 100%|█████████████████████████████████████████████████| 20/20 [00:12<00:00,  1.56it/s, Binary cross entropy=0.464, MAE=0.000242]\u001b[A\n"
     ]
    },
    {
     "name": "stdout",
     "output_type": "stream",
     "text": [
      "2021-04-03 23:57:28,979 INFO em_algo _validate Absolute difference relative to baseline:\n",
      "2021-04-03 23:57:28,980 INFO em_algo _validate Kendall +0.000038\n",
      "2021-04-03 23:57:28,981 INFO em_algo _validate Spearman +0.000082\n",
      "2021-04-03 23:57:28,982 INFO em_algo _validate Absolute difference relative to previous params:\n",
      "2021-04-03 23:57:28,982 INFO em_algo _validate Kendall -0.000000\n",
      "2021-04-03 23:57:28,983 INFO em_algo _validate Spearman +0.000002\n",
      "2021-04-03 23:57:28,984 INFO em_algo _validate Corr coefficients: {'Kendall': 0.5807097689527164, 'Spearman': 0.7449223103869334}\n"
     ]
    },
    {
     "name": "stderr",
     "output_type": "stream",
     "text": [
      "M step:  83%|█████████████████████████████████████████████████████████████████████████████████████████████▎                  | 5/6 [01:56<00:21, 21.93s/it]\n",
      "Train logistic regression:   0%|                                                                                                    | 0/20 [00:00<?, ?it/s]\u001b[A\n",
      "Train logistic regression:   0%|                                                          | 0/20 [00:00<?, ?it/s, Binary cross entropy=0.464, MAE=0.000148]\u001b[A\n",
      "Train logistic regression:   5%|██▌                                               | 1/20 [00:00<00:12,  1.53it/s, Binary cross entropy=0.464, MAE=0.000148]\u001b[A\n",
      "Train logistic regression:   5%|██▌                                               | 1/20 [00:01<00:12,  1.53it/s, Binary cross entropy=0.464, MAE=0.000166]\u001b[A\n",
      "Train logistic regression:  10%|█████                                             | 2/20 [00:01<00:11,  1.55it/s, Binary cross entropy=0.464, MAE=0.000166]\u001b[A\n",
      "Train logistic regression:  10%|█████                                             | 2/20 [00:01<00:11,  1.55it/s, Binary cross entropy=0.464, MAE=0.000181]\u001b[A\n",
      "Train logistic regression:  15%|███████▌                                          | 3/20 [00:01<00:11,  1.54it/s, Binary cross entropy=0.464, MAE=0.000181]\u001b[A\n",
      "Train logistic regression:  15%|███████▌                                          | 3/20 [00:02<00:11,  1.54it/s, Binary cross entropy=0.464, MAE=0.000195]\u001b[A\n",
      "Train logistic regression:  20%|██████████                                        | 4/20 [00:02<00:10,  1.54it/s, Binary cross entropy=0.464, MAE=0.000195]\u001b[A\n",
      "Train logistic regression:  20%|██████████                                        | 4/20 [00:03<00:10,  1.54it/s, Binary cross entropy=0.464, MAE=0.000208]\u001b[A\n",
      "Train logistic regression:  25%|████████████▌                                     | 5/20 [00:03<00:09,  1.52it/s, Binary cross entropy=0.464, MAE=0.000208]\u001b[A\n",
      "Train logistic regression:  25%|████████████▌                                     | 5/20 [00:03<00:09,  1.52it/s, Binary cross entropy=0.464, MAE=0.000219]\u001b[A\n",
      "Train logistic regression:  30%|███████████████                                   | 6/20 [00:03<00:09,  1.53it/s, Binary cross entropy=0.464, MAE=0.000219]\u001b[A\n",
      "Train logistic regression:  30%|███████████████                                   | 6/20 [00:04<00:09,  1.53it/s, Binary cross entropy=0.464, MAE=0.000229]\u001b[A\n",
      "Train logistic regression:  35%|█████████████████▌                                | 7/20 [00:04<00:08,  1.53it/s, Binary cross entropy=0.464, MAE=0.000229]\u001b[A\n",
      "Train logistic regression:  35%|█████████████████▌                                | 7/20 [00:05<00:08,  1.53it/s, Binary cross entropy=0.464, MAE=0.000238]\u001b[A\n",
      "Train logistic regression:  40%|████████████████████                              | 8/20 [00:05<00:07,  1.54it/s, Binary cross entropy=0.464, MAE=0.000238]\u001b[A\n",
      "Train logistic regression:  40%|████████████████████                              | 8/20 [00:05<00:07,  1.54it/s, Binary cross entropy=0.464, MAE=0.000238]\u001b[A\n",
      "Train logistic regression:  45%|██████████████████████▌                           | 9/20 [00:05<00:07,  1.55it/s, Binary cross entropy=0.464, MAE=0.000238]\u001b[A\n",
      "Train logistic regression:  45%|██████████████████████▌                           | 9/20 [00:06<00:07,  1.55it/s, Binary cross entropy=0.464, MAE=0.000239]\u001b[A\n",
      "Train logistic regression:  50%|████████████████████████▌                        | 10/20 [00:06<00:06,  1.55it/s, Binary cross entropy=0.464, MAE=0.000239]\u001b[A\n",
      "Train logistic regression:  50%|█████████████████████████                         | 10/20 [00:07<00:06,  1.55it/s, Binary cross entropy=0.464, MAE=0.00024]\u001b[A\n",
      "Train logistic regression:  55%|███████████████████████████▌                      | 11/20 [00:07<00:05,  1.55it/s, Binary cross entropy=0.464, MAE=0.00024]\u001b[A\n",
      "Train logistic regression:  55%|███████████████████████████▌                      | 11/20 [00:07<00:05,  1.55it/s, Binary cross entropy=0.464, MAE=0.00024]\u001b[A\n",
      "Train logistic regression:  60%|██████████████████████████████                    | 12/20 [00:07<00:05,  1.53it/s, Binary cross entropy=0.464, MAE=0.00024]\u001b[A\n",
      "Train logistic regression:  60%|█████████████████████████████▍                   | 12/20 [00:08<00:05,  1.53it/s, Binary cross entropy=0.464, MAE=0.000241]\u001b[A\n",
      "Train logistic regression:  65%|███████████████████████████████▊                 | 13/20 [00:08<00:04,  1.51it/s, Binary cross entropy=0.464, MAE=0.000241]\u001b[A\n",
      "Train logistic regression:  65%|███████████████████████████████▊                 | 13/20 [00:09<00:04,  1.51it/s, Binary cross entropy=0.464, MAE=0.000241]\u001b[A\n",
      "Train logistic regression:  70%|██████████████████████████████████▎              | 14/20 [00:09<00:03,  1.52it/s, Binary cross entropy=0.464, MAE=0.000241]\u001b[A\n",
      "Train logistic regression:  70%|██████████████████████████████████▎              | 14/20 [00:09<00:03,  1.52it/s, Binary cross entropy=0.464, MAE=0.000241]\u001b[A\n",
      "Train logistic regression:  75%|████████████████████████████████████▊            | 15/20 [00:09<00:03,  1.53it/s, Binary cross entropy=0.464, MAE=0.000241]\u001b[A\n",
      "Train logistic regression:  75%|████████████████████████████████████▊            | 15/20 [00:10<00:03,  1.53it/s, Binary cross entropy=0.464, MAE=0.000241]\u001b[A\n",
      "Train logistic regression:  80%|███████████████████████████████████████▏         | 16/20 [00:10<00:02,  1.54it/s, Binary cross entropy=0.464, MAE=0.000241]\u001b[A\n",
      "Train logistic regression:  80%|███████████████████████████████████████▏         | 16/20 [00:11<00:02,  1.54it/s, Binary cross entropy=0.464, MAE=0.000241]\u001b[A\n",
      "Train logistic regression:  85%|█████████████████████████████████████████▋       | 17/20 [00:11<00:01,  1.52it/s, Binary cross entropy=0.464, MAE=0.000241]\u001b[A\n",
      "Train logistic regression:  85%|█████████████████████████████████████████▋       | 17/20 [00:11<00:01,  1.52it/s, Binary cross entropy=0.464, MAE=0.000241]\u001b[A\n",
      "Train logistic regression:  90%|████████████████████████████████████████████     | 18/20 [00:11<00:01,  1.52it/s, Binary cross entropy=0.464, MAE=0.000241]\u001b[A\n",
      "Train logistic regression:  90%|████████████████████████████████████████████     | 18/20 [00:12<00:01,  1.52it/s, Binary cross entropy=0.464, MAE=0.000241]\u001b[A\n",
      "Train logistic regression:  95%|██████████████████████████████████████████████▌  | 19/20 [00:12<00:00,  1.53it/s, Binary cross entropy=0.464, MAE=0.000241]\u001b[A\n",
      "Train logistic regression:  95%|██████████████████████████████████████████████▌  | 19/20 [00:13<00:00,  1.53it/s, Binary cross entropy=0.464, MAE=0.000241]\u001b[A\n",
      "Train logistic regression: 100%|█████████████████████████████████████████████████| 20/20 [00:13<00:00,  1.53it/s, Binary cross entropy=0.464, MAE=0.000241]\u001b[A\n"
     ]
    },
    {
     "name": "stdout",
     "output_type": "stream",
     "text": [
      "2021-04-03 23:57:50,784 INFO em_algo _validate Absolute difference relative to baseline:\n",
      "2021-04-03 23:57:50,785 INFO em_algo _validate Kendall +0.000042\n",
      "2021-04-03 23:57:50,786 INFO em_algo _validate Spearman +0.000086\n",
      "2021-04-03 23:57:50,789 INFO em_algo _validate Absolute difference relative to previous params:\n",
      "2021-04-03 23:57:50,792 INFO em_algo _validate Kendall +0.000004\n",
      "2021-04-03 23:57:50,793 INFO em_algo _validate Spearman +0.000003\n",
      "2021-04-03 23:57:50,796 INFO em_algo _validate Corr coefficients: {'Kendall': 0.5807141753648156, 'Spearman': 0.7449254155011309}\n"
     ]
    },
    {
     "name": "stderr",
     "output_type": "stream",
     "text": [
      "M step: 100%|████████████████████████████████████████████████████████████████████████████████████████████████████████████████| 6/6 [02:11<00:00, 21.94s/it]\n"
     ]
    }
   ],
   "source": [
    "em_model.fit(coo_features, target, players, skils_encoder, test_team_ratings, baseline, regression.coef_, regression.intercept_)"
   ]
  },
  {
   "cell_type": "code",
   "execution_count": null,
   "metadata": {},
   "outputs": [],
   "source": []
  },
  {
   "cell_type": "code",
   "execution_count": null,
   "metadata": {},
   "outputs": [],
   "source": []
  }
 ],
 "metadata": {
  "kernelspec": {
   "display_name": "Python [conda env:made-adv-ml2]",
   "language": "python",
   "name": "conda-env-made-adv-ml2-py"
  },
  "language_info": {
   "codemirror_mode": {
    "name": "ipython",
    "version": 3
   },
   "file_extension": ".py",
   "mimetype": "text/x-python",
   "name": "python",
   "nbconvert_exporter": "python",
   "pygments_lexer": "ipython3",
   "version": "3.8.5"
  }
 },
 "nbformat": 4,
 "nbformat_minor": 4
}
