{
 "metadata": {
  "language_info": {
   "codemirror_mode": {
    "name": "ipython",
    "version": 3
   },
   "file_extension": ".py",
   "mimetype": "text/x-python",
   "name": "python",
   "nbconvert_exporter": "python",
   "pygments_lexer": "ipython3",
   "version": "3.8.5-final"
  },
  "orig_nbformat": 2,
  "kernelspec": {
   "name": "python3",
   "display_name": "Python 3.8.5 64-bit ('made-adv-ml2': conda)",
   "metadata": {
    "interpreter": {
     "hash": "8e59fd656b74dd6fdab3533be929ca44bdc2effd9b97a7ac08c6285677ba863c"
    }
   }
  }
 },
 "nbformat": 4,
 "nbformat_minor": 2,
 "cells": [
  {
   "cell_type": "code",
   "execution_count": 1,
   "metadata": {},
   "outputs": [],
   "source": [
    "import pathlib\n",
    "import pickle\n",
    "\n",
    "import numpy as np\n",
    "import pandas as pd\n",
    "from sklearn import preprocessing\n",
    "from sklearn import pipeline\n",
    "from sklearn import linear_model\n",
    "from scipy import sparse\n",
    "\n",
    "from rating_model import TeamResults"
   ]
  },
  {
   "cell_type": "code",
   "execution_count": 2,
   "metadata": {},
   "outputs": [],
   "source": [
    "tours_datapath = pathlib.Path(\"data\", \"pickle_data\", \"tournaments-dt.pickle\")"
   ]
  },
  {
   "cell_type": "code",
   "execution_count": 3,
   "metadata": {},
   "outputs": [],
   "source": [
    "tours = pd.read_pickle(str(tours_datapath))"
   ]
  },
  {
   "cell_type": "code",
   "execution_count": 4,
   "metadata": {},
   "outputs": [],
   "source": [
    "players_datapath = pathlib.Path(\"data\", \"pickle_data\", \"players-dt.pickle\")"
   ]
  },
  {
   "cell_type": "code",
   "execution_count": 5,
   "metadata": {},
   "outputs": [],
   "source": [
    "players_info = pd.read_pickle(players_datapath)"
   ]
  },
  {
   "cell_type": "code",
   "execution_count": 6,
   "metadata": {},
   "outputs": [],
   "source": [
    "team_res_datapath = pathlib.Path(\"data\", \"team_res\", \"train_team_results.pickle\")"
   ]
  },
  {
   "cell_type": "code",
   "execution_count": 7,
   "metadata": {},
   "outputs": [],
   "source": [
    "with open(team_res_datapath, \"rb\") as dump_file:\n",
    "    team_res = pickle.load(dump_file)"
   ]
  },
  {
   "source": [],
   "cell_type": "markdown",
   "metadata": {}
  },
  {
   "cell_type": "code",
   "execution_count": 8,
   "metadata": {},
   "outputs": [],
   "source": [
    "total_unknown_team_players = 0\n",
    "total_unknown_answers = 0\n",
    "for tour_id in team_res.tours:\n",
    "    for team_id in team_res[tour_id]:\n",
    "        team = team_res[tour_id][team_id]\n",
    "        if not team.members:\n",
    "            total_unknown_team_players += 1\n",
    "        if not team.mask:\n",
    "            total_unknown_answers += 1"
   ]
  },
  {
   "cell_type": "code",
   "execution_count": 9,
   "metadata": {},
   "outputs": [
    {
     "output_type": "stream",
     "name": "stdout",
     "text": [
      "Количество команд без состава команды: \n109\nКоличество команд с неизвестными повопроснами результатами: \n173\n"
     ]
    }
   ],
   "source": [
    "print(\"Количество команд без состава команды: \", total_unknown_team_players, \"Количество команд с неизвестными повопроснами результатами: \", total_unknown_answers, sep=\"\\n\")"
   ]
  },
  {
   "cell_type": "code",
   "execution_count": 10,
   "metadata": {},
   "outputs": [
    {
     "output_type": "stream",
     "name": "stdout",
     "text": [
      "<class 'pandas.core.frame.DataFrame'>\nInt64Index: 1105 entries, 4628 to 6485\nData columns (total 8 columns):\n #   Column        Non-Null Count  Dtype              \n---  ------        --------------  -----              \n 0   name          1105 non-null   object             \n 1   dateStart     1105 non-null   datetime64[ns, UTC]\n 2   dateEnd       1105 non-null   datetime64[ns, UTC]\n 3   type          1105 non-null   object             \n 4   season        1015 non-null   object             \n 5   orgcommittee  1105 non-null   object             \n 6   synchData     669 non-null    object             \n 7   questionQty   1105 non-null   object             \ndtypes: datetime64[ns, UTC](2), object(6)\nmemory usage: 77.7+ KB\n"
     ]
    }
   ],
   "source": [
    "tours.info()"
   ]
  },
  {
   "cell_type": "code",
   "execution_count": 11,
   "metadata": {
    "tags": []
   },
   "outputs": [
    {
     "output_type": "stream",
     "name": "stderr",
     "text": [
      "Convert to dataframe: 100%|██████████| 689/689 [02:15<00:00,  5.09it/s]\n"
     ]
    }
   ],
   "source": [
    "players = team_res.to_player_dataframe(filter_by_mask=True)"
   ]
  },
  {
   "cell_type": "code",
   "execution_count": 12,
   "metadata": {},
   "outputs": [
    {
     "output_type": "stream",
     "name": "stdout",
     "text": [
      "<class 'pandas.core.frame.DataFrame'>\nInt64Index: 17949880 entries, 0 to 419579\nData columns (total 5 columns):\n #   Column           Dtype\n---  ------           -----\n 0   tour_id          int64\n 1   team_id          int64\n 2   player_id        int64\n 3   answer_id        int64\n 4   is_right_answer  bool \ndtypes: bool(1), int64(4)\nmemory usage: 701.9 MB\n"
     ]
    }
   ],
   "source": [
    "players.info()"
   ]
  },
  {
   "cell_type": "code",
   "execution_count": 13,
   "metadata": {},
   "outputs": [
    {
     "output_type": "execute_result",
     "data": {
      "text/plain": [
       "   tour_id  team_id  player_id  answer_id  is_right_answer\n",
       "0     4772    45556       6212          0             True\n",
       "1     4772    45556       6212          1             True\n",
       "2     4772    45556       6212          2             True\n",
       "3     4772    45556       6212          3             True\n",
       "4     4772    45556       6212          4             True"
      ],
      "text/html": "<div>\n<style scoped>\n    .dataframe tbody tr th:only-of-type {\n        vertical-align: middle;\n    }\n\n    .dataframe tbody tr th {\n        vertical-align: top;\n    }\n\n    .dataframe thead th {\n        text-align: right;\n    }\n</style>\n<table border=\"1\" class=\"dataframe\">\n  <thead>\n    <tr style=\"text-align: right;\">\n      <th></th>\n      <th>tour_id</th>\n      <th>team_id</th>\n      <th>player_id</th>\n      <th>answer_id</th>\n      <th>is_right_answer</th>\n    </tr>\n  </thead>\n  <tbody>\n    <tr>\n      <th>0</th>\n      <td>4772</td>\n      <td>45556</td>\n      <td>6212</td>\n      <td>0</td>\n      <td>True</td>\n    </tr>\n    <tr>\n      <th>1</th>\n      <td>4772</td>\n      <td>45556</td>\n      <td>6212</td>\n      <td>1</td>\n      <td>True</td>\n    </tr>\n    <tr>\n      <th>2</th>\n      <td>4772</td>\n      <td>45556</td>\n      <td>6212</td>\n      <td>2</td>\n      <td>True</td>\n    </tr>\n    <tr>\n      <th>3</th>\n      <td>4772</td>\n      <td>45556</td>\n      <td>6212</td>\n      <td>3</td>\n      <td>True</td>\n    </tr>\n    <tr>\n      <th>4</th>\n      <td>4772</td>\n      <td>45556</td>\n      <td>6212</td>\n      <td>4</td>\n      <td>True</td>\n    </tr>\n  </tbody>\n</table>\n</div>"
     },
     "metadata": {},
     "execution_count": 13
    }
   ],
   "source": [
    "players.head()"
   ]
  },
  {
   "cell_type": "code",
   "execution_count": 14,
   "metadata": {},
   "outputs": [
    {
     "output_type": "execute_result",
     "data": {
      "text/plain": [
       "False    0.568645\n",
       "True     0.431355\n",
       "Name: is_right_answer, dtype: float64"
      ]
     },
     "metadata": {},
     "execution_count": 14
    }
   ],
   "source": [
    "players[\"is_right_answer\"].value_counts(normalize=True)"
   ]
  },
  {
   "cell_type": "code",
   "execution_count": 15,
   "metadata": {},
   "outputs": [],
   "source": [
    "feature_dtype = np.float32"
   ]
  },
  {
   "cell_type": "code",
   "execution_count": 16,
   "metadata": {
    "tags": []
   },
   "outputs": [],
   "source": [
    "skils_encoder = preprocessing.OneHotEncoder(dtype=feature_dtype)"
   ]
  },
  {
   "cell_type": "code",
   "execution_count": 17,
   "metadata": {},
   "outputs": [],
   "source": [
    "skils_features = skils_encoder.fit_transform(players[\"player_id\"].to_numpy().reshape(-1, 1))"
   ]
  },
  {
   "cell_type": "code",
   "execution_count": 18,
   "metadata": {},
   "outputs": [],
   "source": [
    "questione_complex_encoder = preprocessing.OneHotEncoder(dtype=feature_dtype)"
   ]
  },
  {
   "cell_type": "code",
   "execution_count": 19,
   "metadata": {},
   "outputs": [],
   "source": [
    "questions_complex = questione_complex_encoder.fit_transform(players[\"answer_id\"].to_numpy().reshape(-1, 1))"
   ]
  },
  {
   "cell_type": "code",
   "execution_count": 20,
   "metadata": {},
   "outputs": [],
   "source": [
    "features = sparse.hstack((skils_features, questions_complex))\n",
    "del skils_features\n",
    "del questions_complex"
   ]
  },
  {
   "cell_type": "code",
   "execution_count": 21,
   "metadata": {},
   "outputs": [
    {
     "output_type": "execute_result",
     "data": {
      "text/plain": [
       "<17949880x91104 sparse matrix of type '<class 'numpy.float32'>'\n",
       "\twith 35899760 stored elements in COOrdinate format>"
      ]
     },
     "metadata": {},
     "execution_count": 21
    }
   ],
   "source": [
    "features"
   ]
  },
  {
   "cell_type": "code",
   "execution_count": 22,
   "metadata": {},
   "outputs": [],
   "source": [
    "regression = linear_model.LogisticRegression(penalty=\"none\", verbose=3, n_jobs=-1)"
   ]
  },
  {
   "cell_type": "code",
   "execution_count": 23,
   "metadata": {},
   "outputs": [],
   "source": [
    "target = players[\"is_right_answer\"].astype(np.int32).to_numpy()"
   ]
  },
  {
   "cell_type": "code",
   "execution_count": 24,
   "metadata": {},
   "outputs": [
    {
     "output_type": "stream",
     "name": "stderr",
     "text": [
      "[Parallel(n_jobs=-1)]: Using backend LokyBackend with 8 concurrent workers.\n",
      "[Parallel(n_jobs=-1)]: Done   1 out of   1 | elapsed:  2.7min finished\n"
     ]
    },
    {
     "output_type": "execute_result",
     "data": {
      "text/plain": [
       "LogisticRegression(n_jobs=-1, penalty='none', verbose=3)"
      ]
     },
     "metadata": {},
     "execution_count": 24
    }
   ],
   "source": [
    "regression.fit(features, target)"
   ]
  },
  {
   "cell_type": "code",
   "execution_count": 25,
   "metadata": {},
   "outputs": [],
   "source": [
    "def get_rating(skill_encoder, coefs) -> pd.DataFrame:\n",
    "    rows = []\n",
    "    all_players_ids = skill_encoder.categories_[0]\n",
    "    for player_id in all_players_ids:\n",
    "        rows.append({\"player_id\": player_id, \"skill\": coefs[np.where(all_players_ids == player_id)[0][0]]})\n",
    "    return pd.DataFrame.from_records(rows)"
   ]
  },
  {
   "cell_type": "code",
   "execution_count": 26,
   "metadata": {
    "tags": []
   },
   "outputs": [],
   "source": [
    "player_ratings = get_rating(skils_encoder, regression.coef_[0])"
   ]
  },
  {
   "cell_type": "code",
   "execution_count": 27,
   "metadata": {},
   "outputs": [],
   "source": [
    "player_ratings.sort_values(\"skill\", inplace=True)"
   ]
  },
  {
   "cell_type": "code",
   "execution_count": 28,
   "metadata": {},
   "outputs": [
    {
     "output_type": "execute_result",
     "data": {
      "text/plain": [
       "      player_id     skill\n",
       "3888      27403  3.961836\n",
       "609        4270  3.943308\n",
       "3962      27822  3.545685\n",
       "4080      28751  3.518501\n",
       "5221      37047  3.420863\n",
       "3247      22799  3.351339\n",
       "4828      34328  3.348794\n",
       "6782      56647  3.333272\n",
       "4290      30270  3.295080\n",
       "549        3843  3.279501"
      ],
      "text/html": "<div>\n<style scoped>\n    .dataframe tbody tr th:only-of-type {\n        vertical-align: middle;\n    }\n\n    .dataframe tbody tr th {\n        vertical-align: top;\n    }\n\n    .dataframe thead th {\n        text-align: right;\n    }\n</style>\n<table border=\"1\" class=\"dataframe\">\n  <thead>\n    <tr style=\"text-align: right;\">\n      <th></th>\n      <th>player_id</th>\n      <th>skill</th>\n    </tr>\n  </thead>\n  <tbody>\n    <tr>\n      <th>3888</th>\n      <td>27403</td>\n      <td>3.961836</td>\n    </tr>\n    <tr>\n      <th>609</th>\n      <td>4270</td>\n      <td>3.943308</td>\n    </tr>\n    <tr>\n      <th>3962</th>\n      <td>27822</td>\n      <td>3.545685</td>\n    </tr>\n    <tr>\n      <th>4080</th>\n      <td>28751</td>\n      <td>3.518501</td>\n    </tr>\n    <tr>\n      <th>5221</th>\n      <td>37047</td>\n      <td>3.420863</td>\n    </tr>\n    <tr>\n      <th>3247</th>\n      <td>22799</td>\n      <td>3.351339</td>\n    </tr>\n    <tr>\n      <th>4828</th>\n      <td>34328</td>\n      <td>3.348794</td>\n    </tr>\n    <tr>\n      <th>6782</th>\n      <td>56647</td>\n      <td>3.333272</td>\n    </tr>\n    <tr>\n      <th>4290</th>\n      <td>30270</td>\n      <td>3.295080</td>\n    </tr>\n    <tr>\n      <th>549</th>\n      <td>3843</td>\n      <td>3.279501</td>\n    </tr>\n  </tbody>\n</table>\n</div>"
     },
     "metadata": {},
     "execution_count": 28
    }
   ],
   "source": [
    "player_ratings.nlargest(10, \"skill\")"
   ]
  }
 ]
}